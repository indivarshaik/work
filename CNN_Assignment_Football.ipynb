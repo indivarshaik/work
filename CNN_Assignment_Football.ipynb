{
 "cells": [
  {
   "cell_type": "code",
   "execution_count": 1,
   "metadata": {},
   "outputs": [
    {
     "name": "stderr",
     "output_type": "stream",
     "text": [
      "Using TensorFlow backend.\n"
     ]
    }
   ],
   "source": [
    "import keras\n",
    "from keras.models import Sequential\n",
    "from keras.layers import Conv2D\n",
    "from keras.layers import MaxPooling2D\n",
    "from keras.layers import Flatten\n",
    "from keras.layers import Dense"
   ]
  },
  {
   "cell_type": "code",
   "execution_count": 2,
   "metadata": {},
   "outputs": [],
   "source": [
    "# Initialising the CNN\n",
    "classifier = Sequential()"
   ]
  },
  {
   "cell_type": "code",
   "execution_count": 3,
   "metadata": {},
   "outputs": [],
   "source": [
    "# Step 1 - Convolution\n",
    "classifier.add(Conv2D(32, (3, 3), input_shape = (64, 64, 3), activation = 'relu'))"
   ]
  },
  {
   "cell_type": "code",
   "execution_count": 4,
   "metadata": {},
   "outputs": [],
   "source": [
    "# Step 2 - Pooling\n",
    "classifier.add(MaxPooling2D(pool_size = (2, 2)))\n",
    "\n",
    "# Adding a second convolutional layer\n",
    "classifier.add(Conv2D(32, (3, 3), activation = 'relu'))\n",
    "classifier.add(MaxPooling2D(pool_size = (2, 2)))"
   ]
  },
  {
   "cell_type": "code",
   "execution_count": 5,
   "metadata": {},
   "outputs": [],
   "source": [
    "# Step 3 - Flattening\n",
    "classifier.add(Flatten())"
   ]
  },
  {
   "cell_type": "code",
   "execution_count": 6,
   "metadata": {},
   "outputs": [],
   "source": [
    "# Step 4 - Full connection\n",
    "classifier.add(Dense(units = 128, activation = 'relu'))\n",
    "\n",
    "classifier.add(Dense(units = 7, activation = 'softmax'))"
   ]
  },
  {
   "cell_type": "code",
   "execution_count": 7,
   "metadata": {},
   "outputs": [],
   "source": [
    "# Compiling the CNN\n",
    "classifier.compile(optimizer = 'adam', loss = 'binary_crossentropy', metrics = ['accuracy'])"
   ]
  },
  {
   "cell_type": "code",
   "execution_count": 8,
   "metadata": {},
   "outputs": [
    {
     "name": "stdout",
     "output_type": "stream",
     "text": [
      "Found 157 images belonging to 7 classes.\n",
      "Found 157 images belonging to 7 classes.\n",
      "Epoch 1/1\n",
      "1000/1000 [==============================] - 981s 981ms/step - loss: 0.0360 - accuracy: 0.9875 - val_loss: 3.3410e-05 - val_accuracy: 1.0000\n"
     ]
    },
    {
     "data": {
      "text/plain": [
       "<keras.callbacks.callbacks.History at 0x1cc86739d88>"
      ]
     },
     "execution_count": 8,
     "metadata": {},
     "output_type": "execute_result"
    }
   ],
   "source": [
    "from keras.preprocessing.image import ImageDataGenerator\n",
    "\n",
    "train_datagen = ImageDataGenerator(rescale = 1./255,\n",
    "                                   shear_range = 0.2,\n",
    "                                   zoom_range = 0.2,\n",
    "                                   horizontal_flip = True)\n",
    "\n",
    "test_datagen = ImageDataGenerator(rescale = 1./255)\n",
    "\n",
    "training_set = train_datagen.flow_from_directory('C:/Users/IHSAN AADIL/Desktop/iNeuron-Dashboard/MyWork/Football',\n",
    "                                                 target_size = (64, 64),\n",
    "                                                 batch_size = 32\n",
    "                                                 )\n",
    "\n",
    "test_set = test_datagen.flow_from_directory('C:/Users/IHSAN AADIL/Desktop/iNeuron-Dashboard/MyWork/Football',\n",
    "                                            target_size = (64, 64),\n",
    "                                            batch_size = 32\n",
    "                                            )\n",
    "\n",
    "classifier.fit_generator(training_set,\n",
    "                         steps_per_epoch = 1000,\n",
    "                         epochs = 1,\n",
    "                         validation_data = test_set,\n",
    "                         validation_steps = 100)\n",
    "\n"
   ]
  },
  {
   "cell_type": "code",
   "execution_count": 9,
   "metadata": {},
   "outputs": [
    {
     "name": "stdout",
     "output_type": "stream",
     "text": [
      "The result is: [[0. 0. 1. 0. 0. 0. 0.]]\n",
      "The result 0 is: 0.0\n",
      "The result 1 is: 0.0\n",
      "The result 2 is: 1.0\n",
      "The result 3 is: 0.0\n",
      "The result 4 is: 0.0\n",
      "The result 5 is: 0.0\n",
      "The result 6 is: 0.0\n",
      "shape of result is (1, 7)\n",
      "training indices: {'Messi': 0, 'Neyamar': 1, 'Ronaldo': 2, 'Salah': 3, 'Sane': 4, 'Sterling': 5, 'deBruyne': 6}\n",
      "Ronaldo\n"
     ]
    }
   ],
   "source": [
    "import numpy as np\n",
    "from keras.preprocessing import image\n",
    "test_image = image.load_img('C:/Users/IHSAN AADIL/Desktop/ronaldo.jpg', target_size = (64, 64))\n",
    "test_image = image.img_to_array(test_image)\n",
    "test_image = np.expand_dims(test_image, axis = 0)\n",
    "result = classifier.predict(test_image)\n",
    "\n",
    "print(\"The result is:\",result)\n",
    "\n",
    "print(\"The result 0 is:\",result[0][0])\n",
    "print(\"The result 1 is:\",result[0][1])\n",
    "print(\"The result 2 is:\",result[0][2])\n",
    "print(\"The result 3 is:\",result[0][3])\n",
    "print(\"The result 4 is:\",result[0][4])\n",
    "print(\"The result 5 is:\",result[0][5])\n",
    "print(\"The result 6 is:\",result[0][6])\n",
    "\n",
    "print(\"shape of result is\",result.shape)\n",
    "print(\"training indices:\",training_set.class_indices)\n",
    "\n",
    "training_set.class_indices\n",
    "if result[0][0] == 1:\n",
    "    prediction = 'Messi'\n",
    "    print(prediction)\n",
    "elif result[0][1] == 1:\n",
    "    prediction = 'Neymar'\n",
    "    print(prediction)\n",
    "elif result[0][2] == 1:\n",
    "    prediction = 'Ronaldo'\n",
    "    print(prediction)\n",
    "elif result[0][3] == 1:\n",
    "    prediction = 'Salah'\n",
    "    print(prediction)\n",
    "elif result[0][4] == 1:\n",
    "    prediction = 'Sane'\n",
    "    print(prediction)\n",
    "elif result[0][5] == 1:\n",
    "    prediction = 'Sterling'\n",
    "    print(prediction)\n",
    "elif result[0][6] == 1:\n",
    "    prediction = 'deBruyne'\n",
    "    print(prediction)\n",
    "else:\n",
    "    prediction = 'Not Found'\n",
    "    print(prediction)"
   ]
  },
  {
   "cell_type": "code",
   "execution_count": null,
   "metadata": {},
   "outputs": [],
   "source": []
  }
 ],
 "metadata": {
  "kernelspec": {
   "display_name": "Python 3",
   "language": "python",
   "name": "python3"
  },
  "language_info": {
   "codemirror_mode": {
    "name": "ipython",
    "version": 3
   },
   "file_extension": ".py",
   "mimetype": "text/x-python",
   "name": "python",
   "nbconvert_exporter": "python",
   "pygments_lexer": "ipython3",
   "version": "3.7.4"
  }
 },
 "nbformat": 4,
 "nbformat_minor": 2
}
