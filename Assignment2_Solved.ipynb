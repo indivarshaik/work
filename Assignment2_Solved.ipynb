{
 "cells": [
  {
   "cell_type": "markdown",
   "metadata": {},
   "source": [
    "## Problem Statement"
   ]
  },
  {
   "cell_type": "markdown",
   "metadata": {},
   "source": [
    "Q.1 Write a Python Program to implement your own myreduce() function which works exactly like\n",
    "Python's built-in function reduce()\n"
   ]
  },
  {
   "cell_type": "code",
   "execution_count": 6,
   "metadata": {},
   "outputs": [
    {
     "name": "stdout",
     "output_type": "stream",
     "text": [
      "113\n"
     ]
    }
   ],
   "source": [
    "def myreduce(x,y):\n",
    "    return abc()\n",
    "\n",
    "def abc():\n",
    "    tot=0\n",
    "    \n",
    "    length=len(lst)\n",
    "    for i in range(length):\n",
    "        tot=tot+lst[i]\n",
    "    return tot\n",
    "    print(tot)\n",
    "\n",
    "lst =[47,11,42,13]\n",
    "print(myreduce(abc(),lst))\n"
   ]
  },
  {
   "cell_type": "markdown",
   "metadata": {},
   "source": [
    "Q.2 Write a Python program to implement your own myfilter() function which works exactly like\n",
    "Python's built-in function filter()"
   ]
  },
  {
   "cell_type": "code",
   "execution_count": 7,
   "metadata": {},
   "outputs": [
    {
     "name": "stdout",
     "output_type": "stream",
     "text": [
      "0 2 4 6 8 10 12 14 16 18 \n"
     ]
    }
   ],
   "source": [
    "def myfilter(x,y):\n",
    "           return abc()\n",
    "\n",
    "def abc():\n",
    "    \n",
    "    for num in lst:\n",
    "        if (num%2==0):\n",
    "            print(num,end=\" \")\n",
    "    return \"\"\n",
    "\n",
    "lst=range(20)\n",
    "\n",
    "print(myfilter(abc,lst))"
   ]
  },
  {
   "cell_type": "markdown",
   "metadata": {},
   "source": [
    "Q.3 Implement List comprehensions to produce the following lists.\n",
    "   Write List comprehensions to produce the following Lists\n",
    "   \n",
    "    ['A', 'C', 'A', 'D', 'G', 'I', ’L’, ‘ D’]\n",
    "   \n",
    "    ['x', 'xx', 'xxx', 'xxxx', 'y', 'yy', 'yyy', 'yyyy', 'z', 'zz', 'zzz', 'zzzz']\n",
    "\n",
    "    ['x', 'y', 'z', 'xx', 'yy', 'zz', 'xx', 'yy', 'zz', 'xxxx', 'yyyy', 'zzzz']\n",
    "    \n",
    "    [[2], [3], [4], [3], [4], [5], [4], [5], [6]]\n",
    "\n",
    "    [[2, 3, 4, 5], [3, 4, 5, 6], [4, 5, 6, 7], [5, 6, 7, 8]]\n",
    "\n",
    "    [(1, 1), (2, 1), (3, 1), (1, 2), (2, 2), (3, 2), (1, 3), (2, 3), (3, 3)]"
   ]
  },
  {
   "cell_type": "code",
   "execution_count": 8,
   "metadata": {},
   "outputs": [
    {
     "name": "stdout",
     "output_type": "stream",
     "text": [
      "['A', 'C', 'A', 'D', 'G', 'I', 'L', 'D']\n",
      "['x', 'xx', 'xxx', 'xxxx', 'y', 'yy', 'yyy', 'yyyy', 'z', 'zz', 'zzz', 'zzzz']\n",
      "['x', 'y', 'z', 'xx', 'yy', 'zz', 'xxx', 'yyy', 'zzz', 'xxxx', 'yyyy', 'zzzz']\n",
      "[[2], [3], [4], [3], [4], [5], [4], [5], [6]]\n",
      "[[2, 3, 4, 5], [3, 4, 5, 6], [4, 5, 6, 7], [5, 6, 7, 8]]\n"
     ]
    }
   ],
   "source": [
    "# ['A', 'C', 'A', 'D', 'G', 'I', ’L’, ‘ D’]\n",
    "str=\"ACADGILD\"\n",
    "#listWords=[\"A\",\"C\",\"A\",\"D\",\"G\",\"I\",\"L\",\"D\"]\n",
    "items=[word for word in str]\n",
    "print(items)\n",
    "\n",
    "# ['x', 'xx', 'xxx', 'xxxx', 'y', 'yy', 'yyy', 'yyyy', 'z', 'zz', 'zzz', 'zzzz']\n",
    "ip='xyz'\n",
    "op=[a*b for a in ip for b in range(1,5)]\n",
    "print(op)\n",
    "\n",
    "# ['x', 'y', 'z', 'xx', 'yy', 'zz', 'xx', 'yy', 'zz', 'xxxx', 'yyyy', 'zzzz']\n",
    "ip1=[\"x\",\"y\",\"z\"]\n",
    "op1=[a*n for n in range(1,5) for a in ip1   ]\n",
    "print(op1)\n",
    "\n",
    "# [[2], [3], [4], [3], [4], [5], [4], [5], [6]]\n",
    "lst = [[a+b] for a in range(2,5) for b in range(3)]\n",
    "print(lst)\n",
    "\n",
    "# [[2, 3, 4, 5], [3, 4, 5, 6], [4, 5, 6, 7], [5, 6, 7, 8]]\n",
    "lst1 = [[a+b for a in range(2,6)] for b in range(4)]\n",
    "print(lst1)\n"
   ]
  },
  {
   "cell_type": "markdown",
   "metadata": {},
   "source": [
    "Q.4 Implement a function longestWord() that takes a list of words and returns the longest one."
   ]
  },
  {
   "cell_type": "code",
   "execution_count": 9,
   "metadata": {},
   "outputs": [
    {
     "name": "stdout",
     "output_type": "stream",
     "text": [
      "welcome to my world\n"
     ]
    }
   ],
   "source": [
    "def LongestWord(x):\n",
    "    length=[]\n",
    "    for i in x:\n",
    "        length.append((len(i),i))\n",
    "    length.sort()\n",
    "    return length[-1][1]\n",
    "\n",
    "lst=[\"hai\", \"hello\",\"how are you\",\"welcome to my world\",\"finding longest\"]\n",
    "print(LongestWord(lst))"
   ]
  },
  {
   "cell_type": "markdown",
   "metadata": {},
   "source": [
    "Q.5 Write a Python Program(with class concepts) to find the area of the triangle using the below\n",
    "formula.\n",
    "\n",
    "area = (s*(s-a)*(s-b)*(s-c)) ** 0.5\n",
    "\n",
    "Function to take the length of the sides of triangle from user should be defined in the parent\n",
    "class and function to calculate the area should be defined in subclass."
   ]
  },
  {
   "cell_type": "code",
   "execution_count": 2,
   "metadata": {},
   "outputs": [
    {
     "name": "stdout",
     "output_type": "stream",
     "text": [
      "Enter side 1 : 3\n",
      "Enter side 2 : 4\n",
      "Enter side 3 : 5\n",
      "\n",
      "The area of the triangle is: 18.0\n",
      "\n"
     ]
    }
   ],
   "source": [
    "import string \n",
    "class Triangle:\n",
    "    def __init__(self, no_of_sides):\n",
    "        self.n = no_of_sides\n",
    "        self.sides = [0 for i in range(no_of_sides)]\n",
    "    def inputSides(self):\n",
    "        self.sides = [float(input(\"Enter side \"+str(i+1)+\" : \")) for i in range(self.n)]\n",
    "        return \"\"\n",
    "    def dispSides(self):\n",
    "        for i in range(self.n):\n",
    "            print(\"Side\",i+1,\"is\",self.sides[i])\n",
    "\n",
    "\n",
    "class Area(Triangle):\n",
    "    def __init__(self):\n",
    "        Triangle.__init__(self, 3)\n",
    "\n",
    "    def findArea(self):\n",
    "        a, b, c = self.sides\n",
    "        # semi-perimeter,s=half of the sum of all sides\n",
    "        s = (a + b + c) / 2\n",
    "        area1 = (s * (s - a) * (s - b) * (s - c)) * 0.5\n",
    "        print('The area of the triangle is:',area1)\n",
    "        return \"\"\n",
    "\n",
    "\n",
    "t = Area()\n",
    "print(t.inputSides())\n",
    "print(t.findArea())"
   ]
  },
  {
   "cell_type": "markdown",
   "metadata": {},
   "source": [
    "Q.6 Write a function filter_long_words() that takes a list of words and an integer n and returns the list\n",
    "of words that are longer than n."
   ]
  },
  {
   "cell_type": "code",
   "execution_count": 11,
   "metadata": {},
   "outputs": [
    {
     "name": "stdout",
     "output_type": "stream",
     "text": [
      "ineuron\n",
      "ihsan123\n",
      "aadils\n",
      "abcdefgh\n"
     ]
    }
   ],
   "source": [
    "def filter_long_words(a,b):\n",
    "    length = len(a)\n",
    "    for i in range(length):\n",
    "        if (len(a[i]) > b):\n",
    "            print(a[i])\n",
    "\n",
    "lst=[\"ineuron\",\"hai\",\"hello\",\"ihsan123\",\"aadils\",\"shaik\",\"abcdefgh\"]\n",
    "n=5\n",
    "filter_long_words(lst,n)\n"
   ]
  },
  {
   "cell_type": "markdown",
   "metadata": {},
   "source": [
    "Q.7 Write a Python program using function concept that maps list of words into a list of integers\n",
    "representing the lengths of the corresponding words.\n",
    "    \n",
    "    Hint: If a list [ ab,cde,erty] is passed on to the python function output should come as [2,3,4]\n",
    "    Here 2,3 and 4 are the lengths of the words in the list."
   ]
  },
  {
   "cell_type": "code",
   "execution_count": 12,
   "metadata": {},
   "outputs": [
    {
     "name": "stdout",
     "output_type": "stream",
     "text": [
      "[2, 3, 4, 5]\n"
     ]
    }
   ],
   "source": [
    "def maps(a):\n",
    "    length = len(a)\n",
    "    lst1=[]\n",
    "    for i in range(length):\n",
    "       #lst1=print(len(a[i]))\n",
    "       lst1.append(len(a[i]))\n",
    "    print (lst1)\n",
    "\n",
    "lst=[\"ab\",\"cde\",\"erty\",\"hello\"]\n",
    "maps(lst)"
   ]
  },
  {
   "cell_type": "markdown",
   "metadata": {},
   "source": [
    "Q.8 Write a Python function which takes a character (i.e. a string of length 1) and returns True if it is\n",
    "a vowel, False otherwise."
   ]
  },
  {
   "cell_type": "code",
   "execution_count": 13,
   "metadata": {},
   "outputs": [
    {
     "name": "stdout",
     "output_type": "stream",
     "text": [
      "enter a characterU\n"
     ]
    },
    {
     "data": {
      "text/plain": [
       "True"
      ]
     },
     "execution_count": 13,
     "metadata": {},
     "output_type": "execute_result"
    }
   ],
   "source": [
    "def vowel(a):\n",
    "    lower1=[\"a\",\"e\",\"i\",\"o\",\"u\"]\n",
    "    upper1 = [\"A\", \"E\", \"I\", \"O\", \"U\"]\n",
    "    if(a in lower1) or (a in upper1):\n",
    "        #print(\"vowel\")\n",
    "        return True\n",
    "    else:\n",
    "       #print(\"not\")\n",
    "        return False\n",
    "\n",
    "\n",
    "lst=input(\"enter a character\")\n",
    "vowel(lst)\n"
   ]
  },
  {
   "cell_type": "markdown",
   "metadata": {},
   "source": [
    "## Great job!"
   ]
  }
 ],
 "metadata": {
  "kernelspec": {
   "display_name": "Python 3",
   "language": "python",
   "name": "python3"
  },
  "language_info": {
   "codemirror_mode": {
    "name": "ipython",
    "version": 3
   },
   "file_extension": ".py",
   "mimetype": "text/x-python",
   "name": "python",
   "nbconvert_exporter": "python",
   "pygments_lexer": "ipython3",
   "version": "3.7.4"
  }
 },
 "nbformat": 4,
 "nbformat_minor": 2
}
