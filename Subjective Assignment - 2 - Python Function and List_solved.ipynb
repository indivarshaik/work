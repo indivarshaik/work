{
 "cells": [
  {
   "cell_type": "markdown",
   "metadata": {},
   "source": [
    "# Assignments"
   ]
  },
  {
   "cell_type": "markdown",
   "metadata": {},
   "source": [
    "Q1. Write the Python function to get a string made of 4 copies of the last\n",
    "two characters of the specified string (length must be at least 2).\n",
    "\n",
    "    Sample function and result :\n",
    "    insert-end ('Python') -> abababab\n",
    "    insert-end('Exercises') -> jkjkjkjk"
   ]
  },
  {
   "cell_type": "code",
   "execution_count": 1,
   "metadata": {},
   "outputs": [
    {
     "name": "stdout",
     "output_type": "stream",
     "text": [
      "onononon\n",
      "eseseses\n"
     ]
    }
   ],
   "source": [
    "def insert_end(str):\n",
    "    str_sub=str[-2:]\n",
    "    return str_sub*4\n",
    "\n",
    "\n",
    "print(insert_end(\"Python\"))\n",
    "print(insert_end(\"Exercises\"))"
   ]
  },
  {
   "cell_type": "markdown",
   "metadata": {},
   "source": [
    "Q2. Write the python function to get a string made of its first three\n",
    "characters of a specified string. If the length of the string is less than 3\n",
    "then return the original string.\n",
    "    \n",
    "    Sample function and result :\n",
    "    first-three('ipy') -> ipy\n",
    "    first-three('python') -> pyt"
   ]
  },
  {
   "cell_type": "code",
   "execution_count": 3,
   "metadata": {},
   "outputs": [
    {
     "name": "stdout",
     "output_type": "stream",
     "text": [
      "p\n",
      "py\n",
      "ipy\n",
      "pyt\n"
     ]
    }
   ],
   "source": [
    "def first_three(str1):\n",
    "    str_sub1=str1[:3]\n",
    "    return str_sub1\n",
    "\n",
    "print(first_three('p'))\n",
    "print(first_three('py'))\n",
    "print(first_three('ipy'))\n",
    "print(first_three('python'))\n"
   ]
  },
  {
   "cell_type": "markdown",
   "metadata": {},
   "source": [
    "Q3. Write the Python program to find smallest window that contains all\n",
    "characters of the given string?\n",
    "\n",
    "    Original Strings:\n",
    "    asdaewsqgtwwsa\n",
    "    Smallest window that contains all characters of the said string:\n",
    "    Daewsqgt"
   ]
  },
  {
   "cell_type": "code",
   "execution_count": 1,
   "metadata": {},
   "outputs": [
    {
     "name": "stdout",
     "output_type": "stream",
     "text": [
      "Original Strings:\n",
      " asdaewsqgtwwsa\n",
      "\n",
      "\n",
      "Smallest window that contains all characters of the said string:\n",
      "daewsqgt\n"
     ]
    }
   ],
   "source": [
    "from collections import defaultdict\n",
    "\n",
    "def find_sub_string(str):\n",
    "    str_len = len(str)\n",
    "\n",
    "    \n",
    "    dist_count_char = len(set([char for char in str]))\n",
    "\n",
    "    ctr, start_pos, start_pos_index, min_len = 0, 0, -1, 100\n",
    "    curr_count = defaultdict(lambda: 0)\n",
    "    for i in range(str_len):\n",
    "        curr_count[str[i]] += 1\n",
    "\n",
    "        if curr_count[str[i]] == 1:\n",
    "            ctr += 1\n",
    "\n",
    "        if ctr == dist_count_char:\n",
    "            while curr_count[str[start_pos]] > 1:\n",
    "                if curr_count[str[start_pos]] > 1:\n",
    "                    curr_count[str[start_pos]] -= 1\n",
    "                start_pos += 1\n",
    "\n",
    "            len_window = i - start_pos + 1\n",
    "            if min_len > len_window:\n",
    "                min_len = len_window\n",
    "                start_pos_index = start_pos\n",
    "    return str[start_pos_index: start_pos_index + min_len]\n",
    "\n",
    "\n",
    "str1 = \"asdaewsqgtwwsa\"\n",
    "print(\"Original Strings:\\n\", str1)\n",
    "print(\"\\n\")\n",
    "print(\"Smallest window that contains all characters of the said string:\")\n",
    "print(find_sub_string(str1))"
   ]
  },
  {
   "cell_type": "markdown",
   "metadata": {},
   "source": [
    "Q4. Write the Python program to count number of substrings from a\n",
    "given string of lowercase alphabets with exactly k distinct (given)\n",
    "characters?\n",
    "\n",
    "    Input a string (lowercase alphabets): wolf\n",
    "    Input k: 4\n",
    "    Number of substrings with exactly 4 distinct characters: 1"
   ]
  },
  {
   "cell_type": "code",
   "execution_count": 2,
   "metadata": {},
   "outputs": [
    {
     "name": "stdout",
     "output_type": "stream",
     "text": [
      "Input a string (lowercase alphabets):wolf\n",
      "Input k: 4\n",
      "Number of substrings with exactly 4 distinct characters : 1\n"
     ]
    }
   ],
   "source": [
    "def count_k_dist(str1, k):\n",
    "    str_len = len(str1)\n",
    "\n",
    "    result = 0\n",
    "\n",
    "    ctr = [0] * 27\n",
    "\n",
    "    for i in range(0, str_len):\n",
    "        dist_ctr = 0\n",
    "\n",
    "        ctr = [0] * 27\n",
    "\n",
    "        for j in range(i, str_len):\n",
    "\n",
    "            if (ctr[ord(str1[j]) - 97] == 0):\n",
    "                dist_ctr += 1\n",
    "\n",
    "            ctr[ord(str1[j]) - 97] += 1\n",
    "\n",
    "            if (dist_ctr == k):\n",
    "                result += 1\n",
    "            if (dist_ctr > k):\n",
    "                break\n",
    "\n",
    "    return result\n",
    "\n",
    "\n",
    "str1 = input(\"Input a string (lowercase alphabets):\")\n",
    "k = int(input(\"Input k: \"))\n",
    "print(\"Number of substrings with exactly\", k, \"distinct characters : \", end=\"\")\n",
    "print(count_k_dist(str1, k))"
   ]
  },
  {
   "cell_type": "markdown",
   "metadata": {},
   "source": [
    "Q5. Write the Python program to count number of non-empty\n",
    "substrings of the given string?\n",
    "\n",
    "    Input a string: w3resource\n",
    "    Number of substrings:\n",
    "    55"
   ]
  },
  {
   "cell_type": "code",
   "execution_count": null,
   "metadata": {},
   "outputs": [],
   "source": []
  },
  {
   "cell_type": "markdown",
   "metadata": {},
   "source": [
    "Q6. Write the Python program to count the number of strings where the\n",
    "string length is 2 or more, and first and last character are same\n",
    "from a given list of strings.\n",
    "\n",
    "    Sample List : ['abc', 'xyz', 'wxw', '1331']\n",
    "    Expected Result: 2"
   ]
  },
  {
   "cell_type": "code",
   "execution_count": 4,
   "metadata": {},
   "outputs": [
    {
     "name": "stdout",
     "output_type": "stream",
     "text": [
      "The given list is: \t ['abc', 'xyz', 'wxw', '1331']\n",
      "\n",
      "\n",
      "The result is:\t 2\n",
      "\n"
     ]
    }
   ],
   "source": [
    "def count_list(lst):\n",
    "    l = len(lst)\n",
    "    cnt = 0\n",
    "\n",
    "    for i in range(l):\n",
    "        if ((lst[i][0] == lst[i][-1])):\n",
    "            cnt = cnt + 1\n",
    "    print(\"The result is:\\t\", cnt)\n",
    "    return \"\"\n",
    "\n",
    "\n",
    "lst=['abc', 'xyz', 'wxw', '1331']\n",
    "print(\"The given list is: \\t\",lst)\n",
    "print(\"\\n\")\n",
    "print(count_list(lst))"
   ]
  },
  {
   "cell_type": "markdown",
   "metadata": {},
   "source": [
    "Q7. Write the Python program to get a list, sorted in increasing order by\n",
    "the last element in each tuple from the given list of non-empty\n",
    "tuples?\n",
    "\n",
    "    Sample List - [ (2, 5), (1, 2), (4, 4), (2, 3), (2, 1) ]\n",
    "    Expected Result - [ (2, 1), (1, 2), (2, 3), (4, 4), (2, 5) ]"
   ]
  },
  {
   "cell_type": "code",
   "execution_count": 6,
   "metadata": {},
   "outputs": [
    {
     "name": "stdout",
     "output_type": "stream",
     "text": [
      "The given list is: \t [(2, 5), (1, 2), (4, 4), (2, 3), (2, 1)]\n",
      "\n",
      "\n",
      "The Sorted list is:\t [(2, 1), (1, 2), (2, 3), (4, 4), (2, 5)]\n"
     ]
    }
   ],
   "source": [
    "def take_second(element):\n",
    "    return element[1]\n",
    "\n",
    "sample_list=[ (2, 5), (1, 2), (4, 4), (2, 3), (2, 1) ]\n",
    "print(\"The given list is: \\t\",sample_list)\n",
    "\n",
    "print(\"\\n\")\n",
    "\n",
    "s1=sorted(sample_list,key=take_second)\n",
    "print(\"The Sorted list is:\\t\",s1)"
   ]
  },
  {
   "cell_type": "markdown",
   "metadata": {},
   "source": [
    "Q8. Write the Python program to remove duplicates from a list?"
   ]
  },
  {
   "cell_type": "code",
   "execution_count": 7,
   "metadata": {},
   "outputs": [
    {
     "name": "stdout",
     "output_type": "stream",
     "text": [
      "The given list with duplicates is: [1, 2, 3, 4, 5, 3, 2, 6, 7, 5, 3, 2, 1]\n",
      "\n",
      "\n",
      "List after removing duplicates is:\t [1, 2, 3, 4, 5, 6, 7]\n",
      "\n",
      "\n",
      "List after removing duplicates is:\t [1, 2, 3, 4, 5, 6, 7]\n"
     ]
    }
   ],
   "source": [
    "list_dup=[1,2,3,4,5,3,2,6,7,5,3,2,1]\n",
    "print(\"The given list with duplicates is:\",list_dup)\n",
    "print(\"\\n\")\n",
    "\n",
    "d1=list(dict.fromkeys(list_dup))\n",
    "print(\"List after removing duplicates is:\\t\",d1)\n",
    "\n",
    "print(\"\\n\")\n",
    "#other way\n",
    "s1=list(set(list_dup))\n",
    "print(\"List after removing duplicates is:\\t\",s1)"
   ]
  },
  {
   "cell_type": "markdown",
   "metadata": {},
   "source": [
    "Q9. Write the Python program to find the list of words that are longer\n",
    "than n from a given list of words?"
   ]
  },
  {
   "cell_type": "code",
   "execution_count": 12,
   "metadata": {},
   "outputs": [
    {
     "name": "stdout",
     "output_type": "stream",
     "text": [
      "['Welcome', 'world,', 'have', 'nice']\n"
     ]
    }
   ],
   "source": [
    "def find_words(n,str):\n",
    "    length = []\n",
    "    sep_word=str.split(\" \")\n",
    "    for i in sep_word:\n",
    "        if len(i)>n:\n",
    "            length.append(i)\n",
    "    return length\n",
    "\n",
    "print(find_words(3,\"Welcome to my world, have a nice day\"))"
   ]
  },
  {
   "cell_type": "markdown",
   "metadata": {},
   "source": [
    "Q10. Write the Python program to print a specified list after removing the\n",
    "0th, 4th, and 5th elements?\n",
    "    \n",
    "    Sample List - ['Red', 'Green', 'White', 'Black', 'Pink', 'Yellow']\n",
    "    Expected Output - ['Green', 'White', 'Black']"
   ]
  },
  {
   "cell_type": "code",
   "execution_count": 14,
   "metadata": {},
   "outputs": [
    {
     "name": "stdout",
     "output_type": "stream",
     "text": [
      "The given list is:\t ['Red', 'Green', 'White', 'Black', 'Pink', 'Yellow']\n",
      "\n",
      "\n",
      "output is: \t ['Green', 'White', 'Black']\n"
     ]
    }
   ],
   "source": [
    "given_list=['Red', 'Green', 'White', 'Black', 'Pink', 'Yellow']\n",
    "print(\"The given list is:\\t\",given_list)\n",
    "\n",
    "print(\"\\n\")\n",
    "output=given_list[1:-2]\n",
    "print(\"output is: \\t\",output)"
   ]
  },
  {
   "cell_type": "markdown",
   "metadata": {},
   "source": [
    "Q11. Write the Python program to generate all permutations of a list in\n",
    "Python?"
   ]
  },
  {
   "cell_type": "code",
   "execution_count": 15,
   "metadata": {},
   "outputs": [
    {
     "name": "stdout",
     "output_type": "stream",
     "text": [
      "Given list is:\t [1, 2, 3]\n",
      "\n",
      "\n",
      "Permutations of given list are:\t [(1, 2, 3), (1, 3, 2), (2, 1, 3), (2, 3, 1), (3, 1, 2), (3, 2, 1)]\n"
     ]
    }
   ],
   "source": [
    "import itertools\n",
    "lst2=[1,2,3]\n",
    "print(\"Given list is:\\t\",lst2)\n",
    "print(\"\\n\")\n",
    "\n",
    "permt=list(itertools.permutations(lst2))\n",
    "print(\"Permutations of given list are:\\t\",permt)"
   ]
  },
  {
   "cell_type": "markdown",
   "metadata": {},
   "source": [
    "Q12. Write the Python program to convert a pair of values into a sorted\n",
    "unique array?\n",
    " \n",
    "    Original List- [ (1, 2), (3, 4), (1, 2), (5, 6), (7, 8), (1, 2), (3, 4), (3, 4), (7, 8), (9, 10) ]\n",
    "    Sorted Unique Data- [ 1, 2, 3, 4, 5, 6, 7, 8, 9, 10 ] \n"
   ]
  },
  {
   "cell_type": "code",
   "execution_count": 19,
   "metadata": {},
   "outputs": [
    {
     "name": "stdout",
     "output_type": "stream",
     "text": [
      "Given list is:\t [(1, 2), (3, 4), (1, 2), (5, 6), (7, 8), (1, 2), (3, 4), (3, 4), (7, 8), (9, 10)]\n",
      "\n",
      "\n",
      "sorted unique array is:\t [1, 2, 3, 4, 5, 6, 7, 8, 9, 10]\n",
      "\n",
      "\n",
      "Another method is :\n",
      "sorted unique array is:\t [1, 2, 3, 4, 5, 6, 7, 8, 9, 10]\n"
     ]
    }
   ],
   "source": [
    "lst3=[ (1, 2), (3, 4), (1, 2), (5, 6), (7, 8), (1, 2), (3, 4), (3, 4), (7, 8), (9, 10) ]\n",
    "print(\"Given list is:\\t\",lst3)\n",
    "\n",
    "print(\"\\n\")\n",
    "\n",
    "lst_sort=sorted(set().union(*lst3))\n",
    "print(\"sorted unique array is:\\t\",lst_sort)\n",
    "\n",
    "print(\"\\n\")\n",
    "\n",
    "#other way\n",
    "print(\"Another method is :\")\n",
    "print(\"sorted unique array is:\\t\",list(set().union(*lst3)))\n",
    "\n"
   ]
  },
  {
   "cell_type": "code",
   "execution_count": null,
   "metadata": {},
   "outputs": [],
   "source": []
  },
  {
   "cell_type": "markdown",
   "metadata": {},
   "source": [
    "## Great job!"
   ]
  }
 ],
 "metadata": {
  "kernelspec": {
   "display_name": "Python 3",
   "language": "python",
   "name": "python3"
  },
  "language_info": {
   "codemirror_mode": {
    "name": "ipython",
    "version": 3
   },
   "file_extension": ".py",
   "mimetype": "text/x-python",
   "name": "python",
   "nbconvert_exporter": "python",
   "pygments_lexer": "ipython3",
   "version": "3.7.4"
  }
 },
 "nbformat": 4,
 "nbformat_minor": 2
}
