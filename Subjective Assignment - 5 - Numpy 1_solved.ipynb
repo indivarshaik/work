{
 "cells": [
  {
   "cell_type": "markdown",
   "metadata": {},
   "source": [
    "# Assignment"
   ]
  },
  {
   "cell_type": "markdown",
   "metadata": {},
   "source": [
    "Q1. Write the NumPy program to create a 2d array with 6 on the border\n",
    "and 0 inside?\n",
    "\n",
    "    Expected OutputOriginal array-\n",
    "    [ [6 6 6 6 6]\n",
    "     [ 6 6 6 6 6]\n",
    "     [ 6 6 6 6 6 ]\n",
    "    [ 6 6 6 6 6 ]\n",
    "    [ 6 6 6 6 ] ].\n",
    "    6 on the border and 0 inside in the array-\n",
    "    [[ 6 6 6 6 6]\n",
    "    [ 6 0 0 0 6]\n",
    "    [ 6 0 0 0 6]\n",
    "    [ 6 0 0 0 6]\n",
    "    [ 6 6 6 6 6]]."
   ]
  },
  {
   "cell_type": "code",
   "execution_count": 9,
   "metadata": {},
   "outputs": [
    {
     "name": "stdout",
     "output_type": "stream",
     "text": [
      "Expected OutputOriginal array is:\n",
      "\n",
      "[[6. 6. 6. 6. 6.]\n",
      " [6. 6. 6. 6. 6.]\n",
      " [6. 6. 6. 6. 6.]\n",
      " [6. 6. 6. 6. 6.]\n",
      " [6. 6. 6. 6. 6.]] \n",
      "\n",
      "6 on the border and 0 inside in the array is:\n",
      "\n",
      "[[6. 6. 6. 6. 6.]\n",
      " [6. 0. 0. 0. 6.]\n",
      " [6. 0. 0. 0. 6.]\n",
      " [6. 0. 0. 0. 6.]\n",
      " [6. 6. 6. 6. 6.]]\n"
     ]
    }
   ],
   "source": [
    "import numpy as np\n",
    "a=6*np.ones((5,5))\n",
    "print(\"Expected OutputOriginal array is:\\n\")\n",
    "print(a,\"\\n\")\n",
    "\n",
    "for i in range(1,4):\n",
    "    for j in range(1,4):\n",
    "        a[i,j] = 0\n",
    "print(\"6 on the border and 0 inside in the array is:\\n\")\n",
    "print(a)"
   ]
  },
  {
   "cell_type": "markdown",
   "metadata": {},
   "source": [
    "Q2. Write the NumPy program to create a 8x8 matrix and fill it with the\n",
    "checkerboard pattern?\n",
    "    \n",
    "    Checkerboard pattern-\n",
    "    [[3 9 3 9 3 9 3 9]\n",
    "    [9 3 9 3 9 3 9 3]\n",
    "    [3 9 3 9 3 9 3 9]\n",
    "    [9 3 9 3 9 3 9 3]\n",
    "    [3 9 3 9 3 9 3 9]\n",
    "    [9 3 9 3 9 3 9 3]\n",
    "    [3 9 3 9 3 9 3 9]\n",
    "    [9 3 9 3 9 3 9 3]]."
   ]
  },
  {
   "cell_type": "code",
   "execution_count": 7,
   "metadata": {},
   "outputs": [
    {
     "name": "stdout",
     "output_type": "stream",
     "text": [
      "checkerboard pattern of size 8X8 is:\n",
      "\n",
      "[[3. 9. 3. 9. 3. 9. 3. 9.]\n",
      " [9. 3. 9. 3. 9. 3. 9. 3.]\n",
      " [3. 9. 3. 9. 3. 9. 3. 9.]\n",
      " [9. 3. 9. 3. 9. 3. 9. 3.]\n",
      " [3. 9. 3. 9. 3. 9. 3. 9.]\n",
      " [9. 3. 9. 3. 9. 3. 9. 3.]\n",
      " [3. 9. 3. 9. 3. 9. 3. 9.]\n",
      " [9. 3. 9. 3. 9. 3. 9. 3.]]\n"
     ]
    }
   ],
   "source": [
    "b=9*np.ones((8,8))\n",
    "\n",
    "for i in range(0,8):\n",
    "    for j in range(0,8):\n",
    "        if(i%2==0) and (j%2==0):\n",
    "            b[i][j]=3\n",
    "\n",
    "for k in range(0, 8):\n",
    "    for l in range(0,8):\n",
    "        if(k%2!=0) and (l%2!=0):\n",
    "            b[l][k]=3\n",
    "\n",
    "print(\"checkerboard pattern of size 8X8 is:\\n\")\n",
    "print(b)"
   ]
  },
  {
   "cell_type": "markdown",
   "metadata": {},
   "source": [
    "Q3. Write the NumPy program to create an empty and a full array.\n",
    " \n",
    "     Expected Output-\n",
    "    [[4.45057637e-308 1.78021527e-306 8.45549797e-307 1.37962049e-306]\n",
    "    [1.11260619e-306 1.78010255e-306 9.79054228e-307 4.45057637e-308]\n",
    "    [8.45596650e-307 9.34602321e-307 4.94065646e-322 0.00000000e+000]]\n",
    "    [[6 6 6]\n",
    "    [6 6 6]\n",
    "    [6 6 6]]\n"
   ]
  },
  {
   "cell_type": "code",
   "execution_count": 6,
   "metadata": {},
   "outputs": [
    {
     "name": "stdout",
     "output_type": "stream",
     "text": [
      "Empty array of size 3X4 is:\n",
      "\n",
      "[[3.56043053e-307 1.60219306e-306 7.56571288e-307 1.89146896e-307]\n",
      " [1.37961302e-306 1.05699242e-307 1.60218763e-306 1.69121367e-306]\n",
      " [8.01097889e-307 1.33512308e-306 9.79103798e-307 1.24610927e-306]] \n",
      "\n",
      "Full array of size 3X3 is:\n",
      "\n",
      "[[6 6 6]\n",
      " [6 6 6]\n",
      " [6 6 6]]\n"
     ]
    }
   ],
   "source": [
    "import numpy as np\n",
    "\n",
    "x = np.empty((3,4))\n",
    "print(\"Empty array of size 3X4 is:\\n\")\n",
    "print(x,\"\\n\")\n",
    "\n",
    "print(\"Full array of size 3X3 is:\\n\")\n",
    "y = np.full((3,3),6)\n",
    "print(y)"
   ]
  },
  {
   "cell_type": "markdown",
   "metadata": {},
   "source": [
    "Q4. Write the NumPy program to convert the values of Centigrade\n",
    "degrees into the Fahrenheit degrees and the centigrade values are\n",
    "stored in the NumPy array.\n",
    "    \n",
    "    Sample Array -[0, 12, 45.21 ,34, 99.91]\n",
    "    Expected OutputValues in Fahrenheit degrees-\n",
    "    [ 0. 12. 45.21 34. 99.91]\n",
    "    Values in Centigrade degrees-\n",
    "    [-17.77777778 -11.11111111 7.33888889 1.11111111 37.72777778]"
   ]
  },
  {
   "cell_type": "code",
   "execution_count": 12,
   "metadata": {},
   "outputs": [
    {
     "name": "stdout",
     "output_type": "stream",
     "text": [
      "Given Faranheit values are:\n",
      "[ 0.   12.   45.21 34.   99.91]\n",
      "Centigrade values of corresponding faranheit values are:\n",
      "[-17.77777778 -11.11111111   7.33888889   1.11111111  37.72777778]\n"
     ]
    }
   ],
   "source": [
    "lst=[0, 12, 45.21 ,34, 99.91]\n",
    "faran_values=np.array(lst)\n",
    "print(\"Given Faranheit values are:\")\n",
    "print(faran_values)\n",
    "\n",
    "print(\"Centigrade values of corresponding faranheit values are:\")\n",
    "print(5*(faran_values/9 - 32/9))"
   ]
  },
  {
   "cell_type": "markdown",
   "metadata": {},
   "source": [
    "Q5. Write the NumPy program to find the real and imaginary parts of an\n",
    "array of complex numbers?\n",
    "\n",
    "    Expected OutputOriginal array [ 1.00000000+0.j 0.70710678+0.70710678j]\n",
    "    Real part of the array-\n",
    "    [ 1. 0.70710678]\n",
    "    Imaginary part of the array-\n",
    "    [ 0. 0.70710678]"
   ]
  },
  {
   "cell_type": "code",
   "execution_count": 15,
   "metadata": {},
   "outputs": [
    {
     "name": "stdout",
     "output_type": "stream",
     "text": [
      "Given array is:\n",
      "[1.        +0.j         0.70710678+0.70710678j] \n",
      "\n",
      "Real part of the array is:\n",
      "[1.         0.70710678] \n",
      "\n",
      "Imaginary part of the array is:\n",
      "[0.         0.70710678]\n"
     ]
    }
   ],
   "source": [
    "lst1=[ 1.00000000+0.j ,0.70710678+0.70710678j]\n",
    "arr=np.array(lst1)\n",
    "print(\"Given array is:\")\n",
    "print(arr,\"\\n\")\n",
    "print(\"Real part of the array is:\")\n",
    "print(arr.real,\"\\n\")\n",
    "\n",
    "print(\"Imaginary part of the array is:\")\n",
    "print(arr.imag)"
   ]
  },
  {
   "cell_type": "markdown",
   "metadata": {},
   "source": [
    "Q6. Write the NumPy program to test whether each element of a 1-D\n",
    "array is also present in the second array?\n",
    "\n",
    "    Expected OutputArray1: [ 0 10 20 40 60]\n",
    "    Array2: [0, 40]\n",
    "    Compare each element of array1 and array2\n",
    "    [ True False False True False]\n"
   ]
  },
  {
   "cell_type": "code",
   "execution_count": 19,
   "metadata": {},
   "outputs": [
    {
     "name": "stdout",
     "output_type": "stream",
     "text": [
      "Comparing each element of arr1 and arr2:\n",
      "\n",
      "[ True False False  True False]\n"
     ]
    }
   ],
   "source": [
    "arr1=np.array([ 0,10,20,40,60])\n",
    "arr2=np.array([0,40])\n",
    "print(\"Comparing each element of arr1 and arr2:\\n\")\n",
    "print(np.in1d(arr1, arr2))"
   ]
  },
  {
   "cell_type": "markdown",
   "metadata": {},
   "source": [
    "Q7. Write the NumPy program to find common values between two\n",
    "arrays?\n",
    "    \n",
    "    Expected OutputArray1: [ 0 10 20 40 60]\n",
    "    Array2: [10, 30, 40]\n",
    "    Common values between two arrays-\n",
    "    [10 40]"
   ]
  },
  {
   "cell_type": "code",
   "execution_count": 20,
   "metadata": {},
   "outputs": [
    {
     "name": "stdout",
     "output_type": "stream",
     "text": [
      "common values between arr3 and arr4 are:\n",
      "\n",
      "[10 40]\n"
     ]
    }
   ],
   "source": [
    "arr3=np.array([ 0, 10, 20, 40, 60])\n",
    "arr4=np.array([ 10, 30, 40])\n",
    "print(\"common values between arr3 and arr4 are:\\n\")\n",
    "print(np.intersect1d(arr3,arr4))"
   ]
  },
  {
   "cell_type": "markdown",
   "metadata": {},
   "source": [
    "Q8. Write the NumPy program to get the unique elements of an array?\n",
    "\n",
    "    Expected OutputOriginal array-\n",
    "    [10 10 20 20 30 30]\n",
    "    Unique elements of the above array-\n",
    "    [10 20 30]\n",
    "    P a g e 14 | 44\n",
    "    Original array-\n",
    "    [[1 1]\n",
    "    [2 3]]\n",
    "    Unique elements of the above array-\n",
    "    [1 2 3]"
   ]
  },
  {
   "cell_type": "code",
   "execution_count": 21,
   "metadata": {},
   "outputs": [
    {
     "name": "stdout",
     "output_type": "stream",
     "text": [
      "Given array is: [10 10 20 20 30 30]\n",
      "\n",
      "Unique elements of the above array are:\n",
      "\n",
      "[10 20 30]\n",
      "Given array is: \n",
      " [[1 1]\n",
      " [2 3]]\n",
      "\n",
      "Unique elements of the above array are:\n",
      "\n",
      "[1 2 3]\n"
     ]
    }
   ],
   "source": [
    "arr5=np.array([10, 10, 20, 20, 30, 30])\n",
    "print(\"Given array is:\",arr5)\n",
    "print(\"\\nUnique elements of the above array are:\\n\")\n",
    "print(np.unique(arr5))\n",
    "\n",
    "arr6=np.array([[1,1],[2,3]])\n",
    "print(\"Given array is: \\n\",arr6)\n",
    "print(\"\\nUnique elements of the above array are:\\n\")\n",
    "print(np.unique(arr6))"
   ]
  },
  {
   "cell_type": "markdown",
   "metadata": {},
   "source": [
    "Q9. Write the NumPy program to find the set exclusive-or of two arrays.\n",
    "Set exclusive-or will return the sorted, unique values that are in\n",
    "only one (not both) of the input arrays?\n",
    "\n",
    "    Array1- [ 0 10 20 40 60 80]\n",
    "    Array2- [10, 30, 40, 50, 70]\n",
    "    Unique values that are in only one (not both) of the input arrays-\n",
    "    [ 0 20 30 50 60 70 80]"
   ]
  },
  {
   "cell_type": "code",
   "execution_count": 23,
   "metadata": {},
   "outputs": [
    {
     "name": "stdout",
     "output_type": "stream",
     "text": [
      "First array is: [ 0 10 20 40 60 80]\n",
      "\n",
      "Second array is: [10 30 40 50 70]\n",
      "\n",
      " Unique values that are in only one (not both) of the input arrays are:\n",
      "[ 0 20 30 50 60 70 80]\n"
     ]
    }
   ],
   "source": [
    "arr7=np.array([0,10,20,40,60,80])\n",
    "arr8=np.array([10,30,40,50,70])\n",
    "\n",
    "print(\"First array is:\",arr7)\n",
    "print(\"\\nSecond array is:\",arr8)\n",
    "\n",
    "print(\"\\n Unique values that are in only one (not both) of the input arrays are:\")\n",
    "print(np.setxor1d(arr7, arr8))"
   ]
  },
  {
   "cell_type": "markdown",
   "metadata": {},
   "source": [
    "Q10. Write the NumPy program to test if all elements in an array\n",
    "evaluate to True ?\n",
    " \n",
    "Note: 0 evaluates to False in NumPy"
   ]
  },
  {
   "cell_type": "code",
   "execution_count": 25,
   "metadata": {},
   "outputs": [
    {
     "name": "stdout",
     "output_type": "stream",
     "text": [
      "Prints True if value is not zero, if zero prints False \n",
      " \n",
      "True False True True True False True True False True "
     ]
    }
   ],
   "source": [
    "arr9=np.array([1,0,3,5,-6,0,3,2,0,-10])\n",
    "l=len(arr9)\n",
    "print(\"Prints True if value is not zero, if zero prints False \\n \")\n",
    "for i in range(l):\n",
    "    if arr9[i]==0:\n",
    "        print(False,end=\" \")\n",
    "    else:\n",
    "        print(True,end=\" \")"
   ]
  },
  {
   "cell_type": "code",
   "execution_count": 30,
   "metadata": {},
   "outputs": [
    {
     "name": "stdout",
     "output_type": "stream",
     "text": [
      "True\n",
      "False\n",
      "\n",
      "\n",
      "False\n",
      "True\n"
     ]
    }
   ],
   "source": [
    "\n",
    "print(np.all([[True,True],[True,True]]))\n",
    "print(np.all([[True,False],[True,True]]))\n",
    "\n",
    "print(\"\\n\")\n",
    "print(np.all([5, 27, -15, 0]))\n",
    "print(np.all([-10,  45]))"
   ]
  },
  {
   "cell_type": "markdown",
   "metadata": {},
   "source": [
    "Q11. Write the NumPy program to test whether any array element along\n",
    "the given axis evaluates to True?\n",
    " \n",
    "Note: 0 evaluates to False in NumPy"
   ]
  },
  {
   "cell_type": "code",
   "execution_count": 38,
   "metadata": {},
   "outputs": [
    {
     "name": "stdout",
     "output_type": "stream",
     "text": [
      "[ True False]\n",
      "[False  True]\n",
      "\n",
      "\n",
      "[ True False  True]\n",
      "[ True False]\n"
     ]
    }
   ],
   "source": [
    "print(np.all([[True,False],[True,True]], axis = 0))\n",
    "\n",
    "print(np.all([[True,False],[True,True]], axis=1))\n",
    "\n",
    "\n",
    "print(\"\\n\")\n",
    "print(np.all([[5, 27, -15],[4,0,-2]],axis = 0))\n",
    "print(np.all([[-10,  45],[0,34]],axis = 1))"
   ]
  },
  {
   "cell_type": "markdown",
   "metadata": {},
   "source": [
    "Q12. Write the NumPy program to construct an array by repeating?\n",
    "\n",
    "    Sample array- [1, 2, 3, 4]\n",
    "    Expected OutputOriginal array\n",
    "    [1, 2, 3, 4]\n",
    "    Repeating 2 times\n",
    "    [1 2 3 4 1 2 3 4]\n",
    "    Repeating 3 times\n",
    "    [1 2 3 4 1 2 3 4 1 2 3 4]"
   ]
  },
  {
   "cell_type": "code",
   "execution_count": 41,
   "metadata": {},
   "outputs": [
    {
     "name": "stdout",
     "output_type": "stream",
     "text": [
      "given array is: [1 2 3 4]\n",
      "\n",
      "\n",
      "Printing twice:\n",
      "\n",
      "[1 2 3 4 1 2 3 4]\n",
      "\n",
      "\n",
      "Printing thrice:\n",
      "\n",
      "[1 2 3 4 1 2 3 4 1 2 3 4]\n"
     ]
    }
   ],
   "source": [
    "sam_array=np.array([1, 2, 3, 4])\n",
    "print(\"given array is:\",sam_array)\n",
    "print(\"\\n\")\n",
    "\n",
    "print(\"Printing twice:\\n\")\n",
    "print(np.tile(sam_array,2))\n",
    "\n",
    "print(\"\\n\")\n",
    "print(\"Printing thrice:\\n\")\n",
    "print(np.tile(sam_array,3))"
   ]
  },
  {
   "cell_type": "markdown",
   "metadata": {},
   "source": [
    "Q13. Write the NumPy program to find the indices of the maximum and\n",
    "minimum values with the given axis of an array?\n",
    "\n",
    "    Original array- [1 2 3 4 5 6]\n",
    "    Maximum Values- 5\n",
    "    Minimum Values- 0"
   ]
  },
  {
   "cell_type": "code",
   "execution_count": 42,
   "metadata": {},
   "outputs": [
    {
     "name": "stdout",
     "output_type": "stream",
     "text": [
      "Given arry: [1 2 3 4 5 6]\n",
      "Maximum Values:  5\n",
      "Minimum Values:  0\n"
     ]
    }
   ],
   "source": [
    "org_arr=np.array([1,2,3,4,5,6])\n",
    "print(\"Given arry:\",org_arr)\n",
    "\n",
    "print(\"Maximum Values: \",np.argmax(org_arr))\n",
    "print(\"Minimum Values: \",np.argmin(org_arr))"
   ]
  },
  {
   "cell_type": "markdown",
   "metadata": {},
   "source": [
    "Q14. Write the NumPy program compare two arrays using numpy?\n",
    "\n",
    "    Array a- [1 2]\n",
    "    Array b- [4 5]\n",
    "    a > b\n",
    "    [False False]\n",
    "    a >= b\n",
    "    [False False]\n",
    "    a < b\n",
    "    [ True True]\n",
    "    a <= b\n",
    "    [ True True]\n"
   ]
  },
  {
   "cell_type": "code",
   "execution_count": 43,
   "metadata": {},
   "outputs": [
    {
     "name": "stdout",
     "output_type": "stream",
     "text": [
      "First Array :  [1 2]\n",
      "Second Array :  [4 5]\n",
      "\n",
      "\n",
      "First Array > Second Array\n",
      "[False False]\n",
      "\n",
      "\n",
      "First Array >= Second Array\n",
      "[False False]\n",
      "\n",
      "\n",
      "First Array < Second Array\n",
      "[ True  True]\n",
      "\n",
      "\n",
      "First Array <= Second Array\n",
      "[ True  True]\n"
     ]
    }
   ],
   "source": [
    "first_arr = np.array([1, 2])\n",
    "second_arr = np.array([4, 5])\n",
    "print(\"First Array : \",first_arr)\n",
    "print(\"Second Array : \",second_arr)\n",
    "print(\"\\n\")\n",
    "print(\"First Array > Second Array\")\n",
    "print(np.greater(first_arr, second_arr))\n",
    "print(\"\\n\")\n",
    "print(\"First Array >= Second Array\")\n",
    "print(np.greater_equal(first_arr, second_arr))\n",
    "print(\"\\n\")\n",
    "print(\"First Array < Second Array\")\n",
    "print(np.less(first_arr, second_arr))\n",
    "print(\"\\n\")\n",
    "print(\"First Array <= Second Array\")\n",
    "print(np.less_equal(first_arr, second_arr))"
   ]
  },
  {
   "cell_type": "markdown",
   "metadata": {},
   "source": [
    "Q15. Write the NumPy program to sort an along the first, last axis of an\n",
    "array?\n",
    "\n",
    "    Sample array- [[2,5],[4,4]]\n",
    "    Expected OutputOriginal array:\n",
    "    [[4 6]\n",
    "    [2 1]]\n",
    "    Sort along the first axis:\n",
    "    [[2 1]\n",
    "    [4 6]]\n",
    "    Sort along the last axis-\n",
    "    [[1 2]\n",
    "    [4 6]]"
   ]
  },
  {
   "cell_type": "code",
   "execution_count": 44,
   "metadata": {},
   "outputs": [
    {
     "name": "stdout",
     "output_type": "stream",
     "text": [
      "The given array is:\n",
      " [[4 6]\n",
      " [2 1]]\n",
      "\n",
      "\n",
      "Sort along the first axis: \n",
      "[[2 1]\n",
      " [4 6]]\n",
      "\n",
      "\n",
      "Sort along the last axis: \n",
      "[[1 2]\n",
      " [4 6]]\n"
     ]
    }
   ],
   "source": [
    "array1=np.array([[4,6],[2,1]])\n",
    "print(\"The given array is:\\n\",array1)\n",
    "print(\"\\n\")\n",
    "print(\"Sort along the first axis: \")\n",
    "array1_x=np.sort(array1,axis=0)\n",
    "print(array1_x)\n",
    "print(\"\\n\")\n",
    "print(\"Sort along the last axis: \")\n",
    "array1_y=np.sort(array1_x,axis=1)\n",
    "print(array1_y)"
   ]
  },
  {
   "cell_type": "markdown",
   "metadata": {},
   "source": [
    "Q16. Write the NumPy program to sort pairs of first name and last name\n",
    "return their indices (first by last name, then by first name).\n",
    "\n",
    "    first_names - ( Betsey, Shelley, Lanell, Genesis, Margery )\n",
    "    last_names - ( Battle, Brien, Plotner, Stahl, Woolum )\n",
    "    Expected Output-\n",
    "    [1 3 2 4 0]"
   ]
  },
  {
   "cell_type": "code",
   "execution_count": 48,
   "metadata": {},
   "outputs": [
    {
     "name": "stdout",
     "output_type": "stream",
     "text": [
      "Given First names are:\n",
      " ['Margery' 'Betsey' 'Shelley' 'Lanell' 'Genesis']\n",
      "\n",
      "\n",
      "Given Last names are:\n",
      " ['Woolum' 'Battle' 'Plotner' 'Brien' 'Stahl']\n",
      "\n",
      "\n",
      "sorting indices of given arrays is: [1 3 2 4 0]\n"
     ]
    }
   ],
   "source": [
    "first_names = ('Margery', 'Betsey', 'Shelley', 'Lanell', 'Genesis')\n",
    "last_names =('Woolum', 'Battle', 'Plotner', 'Brien', 'Stahl')\n",
    "\n",
    "fnames=np.array(first_names)\n",
    "lnames=np.array(last_names)\n",
    "\n",
    "print(\"Given First names are:\\n\",fnames)\n",
    "print(\"\\n\")\n",
    "\n",
    "print(\"Given Last names are:\\n\",lnames)\n",
    "print(\"\\n\")\n",
    "\n",
    "f_n = np.lexsort((fnames, lnames))\n",
    "print(\"sorting indices of given arrays is:\",f_n)"
   ]
  },
  {
   "cell_type": "markdown",
   "metadata": {},
   "source": [
    "Q17. Write the NumPy program to get the values and indices of the\n",
    "elements that are bigger than 10 in the given array?\n",
    "\n",
    "    Original array-\n",
    "    [[ 0 10 20]\n",
    "    [20 30 40]]\n",
    "    Values bigger than 10 = [20 20 30 40]\n",
    "    Their indices are (array([0, 1, 1, 1]), array([2, 0, 1, 2]))"
   ]
  },
  {
   "cell_type": "code",
   "execution_count": 50,
   "metadata": {},
   "outputs": [
    {
     "name": "stdout",
     "output_type": "stream",
     "text": [
      "The given array is:\n",
      "\n",
      "[[ 0 10 20]\n",
      " [20 30 40]]\n",
      "\n",
      "\n",
      "The elements bigger than 10 are: [20 20 30 40]\n",
      "\n",
      "\n",
      "The index vaules of elements [20 20 30 40] which are greater than 10 are: (array([0, 1, 1, 1], dtype=int64), array([2, 0, 1, 2], dtype=int64))\n"
     ]
    }
   ],
   "source": [
    "arr_org=np.array([[0,10,20],[20,30,40]])\n",
    "print(\"The given array is:\\n\")\n",
    "print(arr_org)\n",
    "print(\"\\n\")\n",
    "\n",
    "output=arr_org[arr_org>10]\n",
    "print(\"The elements bigger than 10 are:\",output)\n",
    "print(\"\\n\")\n",
    "\n",
    "print(\"The index vaules of elements\", output,\"which are greater than 10 are:\",np.nonzero(arr_org > 10))"
   ]
  },
  {
   "cell_type": "markdown",
   "metadata": {},
   "source": [
    "Q18. Write the NumPy program to find the memory size of a NumPy\n",
    "array?\n",
    "\n",
    "    Expected Output128 bytes\n"
   ]
  },
  {
   "cell_type": "code",
   "execution_count": 63,
   "metadata": {},
   "outputs": [
    {
     "name": "stdout",
     "output_type": "stream",
     "text": [
      "The identity matrix of given size is:\n",
      " [[1. 0. 0. 0.]\n",
      " [0. 1. 0. 0.]\n",
      " [0. 0. 1. 0.]\n",
      " [0. 0. 0. 1.]]\n",
      "\n",
      "\n",
      "Given array size is: 16\n",
      "\n",
      "\n",
      "Item size in given array is: 8\n",
      "\n",
      "\n",
      "memory size of given array is:\n",
      "128 bytes\n"
     ]
    }
   ],
   "source": [
    "num_arr=np.identity(4)\n",
    "print(\"The identity matrix of given size is:\\n\", num_arr)\n",
    "print(\"\\n\")\n",
    "print(\"Given array size is:\",num_arr.size)\n",
    "print(\"\\n\")\n",
    "print(\"Item size in given array is:\",num_arr.itemsize)\n",
    "print(\"\\n\")\n",
    "print(\"memory size of given array is:\")\n",
    "print( (num_arr.size * num_arr.itemsize),\"bytes\")"
   ]
  },
  {
   "cell_type": "markdown",
   "metadata": {},
   "source": [
    "## Great Job!"
   ]
  }
 ],
 "metadata": {
  "kernelspec": {
   "display_name": "Python 3",
   "language": "python",
   "name": "python3"
  },
  "language_info": {
   "codemirror_mode": {
    "name": "ipython",
    "version": 3
   },
   "file_extension": ".py",
   "mimetype": "text/x-python",
   "name": "python",
   "nbconvert_exporter": "python",
   "pygments_lexer": "ipython3",
   "version": "3.7.4"
  }
 },
 "nbformat": 4,
 "nbformat_minor": 2
}
