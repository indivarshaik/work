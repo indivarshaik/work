{
 "cells": [
  {
   "cell_type": "markdown",
   "metadata": {},
   "source": [
    "# Assignment 4 Questions"
   ]
  },
  {
   "cell_type": "markdown",
   "metadata": {},
   "source": [
    "## Problem Statement"
   ]
  },
  {
   "cell_type": "markdown",
   "metadata": {},
   "source": [
    "Q.1 Given a sequence of n values x1, x2, ..., xn and a window size k>0, the k-th moving average of\n",
    "the given sequence is defined as follows:\n",
    "\n",
    "The moving average sequence has n-k+1 elements as shown below.\n",
    "The moving averages with k=4 of a ten-value sequence (n=10) is shown below\n",
    "\n",
    "    i 1 2 3 4 5 6 7 8 9 10\n",
    "    ===== == == == == == == == == == ==\n",
    "    Input 10 20 30 40 50 60 70 80 90 100\n",
    "    y1 25 = (10+20+30+40)/4\n",
    "    y2 35 = (20+30+40+50)/4\n",
    "    y3 45 = (30+40+50+60)/4\n",
    "    y4 55 = (40+50+60+70)/4\n",
    "    y5 65 = (50+60+70+80)/4\n",
    "    y6 75 = (60+70+80+90)/4\n",
    "    y7 85 = (70+80+90+100)/4\n",
    "\n",
    "Thus, the moving average sequence has n-k+1=10-4+1=7 values.\n",
    "\n",
    "Write a function to find moving average in an array over a window:\n",
    "\n",
    "Test it over [3, 5, 7, 2, 8, 10, 11, 65, 72, 81, 99, 100, 150] and window of 3."
   ]
  },
  {
   "cell_type": "code",
   "execution_count": 1,
   "metadata": {},
   "outputs": [
    {
     "name": "stdout",
     "output_type": "stream",
     "text": [
      "4.25   5.5   6.75   7.75   23.5   39.5   57.25   79.25   88.0   107.5   "
     ]
    }
   ],
   "source": [
    "def mov_Avg(l1,k):\n",
    "    n = len(l1)\n",
    "\n",
    "    for i in range(0, n - k + 1):\n",
    "        sum = 0\n",
    "        l2=[]\n",
    "        avg=[]\n",
    "        for j in range(i, i + 4):\n",
    "            sum = sum + l1[j]\n",
    "            i = i + 1\n",
    "        # print(sum)\n",
    "        avg = sum / 4\n",
    "        print(avg,end=\"   \")\n",
    "\n",
    "l1=[3, 5, 7, 2, 8, 10, 11, 65, 72, 81, 99, 100, 150]\n",
    "#l1=[10,20,30,40,50,60,70,80,90,100]\n",
    "k=4\n",
    "mov_Avg(l1,k)\n"
   ]
  },
  {
   "cell_type": "markdown",
   "metadata": {},
   "source": [
    "Q.2 How-to-count-distance-to-the-previous-zero\n",
    "For each value, count the difference back to the previous zero (or the start of the Series,\n",
    "whichever is closer)\n",
    "create a new column 'Y'\n",
    "Consider a DataFrame df where there is an integer column 'X'\n",
    "    \n",
    "    import pandas as pd\n",
    "    df = pd.DataFrame({'X': [7, 2, 0, 3, 4, 2, 5, 0, 3, 4]})"
   ]
  },
  {
   "cell_type": "code",
   "execution_count": 2,
   "metadata": {},
   "outputs": [
    {
     "name": "stdout",
     "output_type": "stream",
     "text": [
      "   X  Y\n",
      "0  1  1\n",
      "1  2  2\n",
      "2  0  0\n",
      "3  1  1\n",
      "4  2  2\n",
      "5  3  3\n",
      "6  4  4\n",
      "7  0  0\n",
      "8  1  1\n",
      "9  2  2\n"
     ]
    }
   ],
   "source": [
    "import numpy as np\n",
    "import pandas as pd\n",
    "\n",
    "df = pd.DataFrame({'X': [7, 2, 0, 3, 4, 2, 5, 0, 3, 4]})\n",
    "X = df.to_numpy()\n",
    "\n",
    "df[\"Y\"] = ' '\n",
    "#print(df)\n",
    "\n",
    "ret = np.zeros_like(X)\n",
    "arr_view=[]\n",
    "zero_count = 0\n",
    "for i in range(0,len(X)):\n",
    "     if X[i]==0 :\n",
    "         zero_count = 0\n",
    "     else :\n",
    "          zero_count=zero_count + 1\n",
    "          X[i] = zero_count\n",
    "     #print(x[i])\n",
    "\n",
    "\n",
    "df[\"Y\"] = X\n",
    "print(df)\n"
   ]
  },
  {
   "cell_type": "markdown",
   "metadata": {},
   "source": [
    "Q.3 Create a DatetimeIndex that contains each business day of 2015 and use it to index a Series of\n",
    "random numbers."
   ]
  },
  {
   "cell_type": "code",
   "execution_count": 3,
   "metadata": {},
   "outputs": [
    {
     "name": "stdout",
     "output_type": "stream",
     "text": [
      "2015-01-01    0.201171\n",
      "2015-01-02    0.400814\n",
      "2015-01-05    0.316176\n",
      "2015-01-06    0.334475\n",
      "2015-01-07    0.082078\n",
      "                ...   \n",
      "2015-12-25    0.838334\n",
      "2015-12-28    0.369789\n",
      "2015-12-29    0.390462\n",
      "2015-12-30    0.118183\n",
      "2015-12-31    0.626288\n",
      "Freq: B, Length: 261, dtype: float64\n",
      "Last Business Day of 2015 is: 2015-12-31 00:00:00\n"
     ]
    }
   ],
   "source": [
    "import pandas as pd\n",
    "import numpy as np\n",
    "\n",
    "\n",
    "DatetimeIndex = pd.date_range(start='2015-01-01', end='2015-12-31', freq='B')\n",
    "ser = pd.Series(np.random.rand(len(DatetimeIndex)), index=DatetimeIndex)\n",
    "\n",
    "print(ser)\n",
    "\n",
    "#printitng 261st day (last business day of 2015)\n",
    "print(\"Last Business Day of 2015 is:\",DatetimeIndex[260])\n"
   ]
  },
  {
   "cell_type": "markdown",
   "metadata": {},
   "source": [
    "Q.4 "
   ]
  }
 ],
 "metadata": {
  "kernelspec": {
   "display_name": "Python 3",
   "language": "python",
   "name": "python3"
  },
  "language_info": {
   "codemirror_mode": {
    "name": "ipython",
    "version": 3
   },
   "file_extension": ".py",
   "mimetype": "text/x-python",
   "name": "python",
   "nbconvert_exporter": "python",
   "pygments_lexer": "ipython3",
   "version": "3.7.4"
  }
 },
 "nbformat": 4,
 "nbformat_minor": 2
}
