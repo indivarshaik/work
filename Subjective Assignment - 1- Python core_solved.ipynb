{
 "cells": [
  {
   "cell_type": "markdown",
   "metadata": {},
   "source": [
    "Q1. Write a Python program to get the string from the given string where\n",
    "all the occurrence of its first char has been changed to '$,' except first\n",
    "char itself?\n",
    "\n",
    "    Sample String: 'prospect'\n",
    "    Expected Result : 'pros$ect'\n"
   ]
  },
  {
   "cell_type": "code",
   "execution_count": 31,
   "metadata": {},
   "outputs": [
    {
     "name": "stdout",
     "output_type": "stream",
     "text": [
      "pros$ect\n"
     ]
    }
   ],
   "source": [
    "str1=\"prospect\"\n",
    "\n",
    "str_new=str1.replace(str1[0],\"$\")\n",
    "str_new = str1[0] + str_new[1:]\n",
    "\n",
    "print(str_new)"
   ]
  },
  {
   "cell_type": "markdown",
   "metadata": {},
   "source": [
    "Q2. Write a Python program to get the single string from the two given\n",
    "strings, and separated by the space and swap the first two characters of\n",
    "each string?\n",
    "\n",
    "    Sample String : 'abc', 'xyz'.\n",
    "    Expected Result: 'xyc abz'"
   ]
  },
  {
   "cell_type": "code",
   "execution_count": 2,
   "metadata": {},
   "outputs": [
    {
     "name": "stdout",
     "output_type": "stream",
     "text": [
      "xyc abz\n"
     ]
    }
   ],
   "source": [
    "def str_mix(a, b):\n",
    "  str1 = b[:2] + a[2:]\n",
    "  str2 = a[:2] + b[2:]\n",
    "  return str1 + ' ' + str2\n",
    "\n",
    "x=\"abc\"\n",
    "y=\"xyz\"\n",
    "print(str_mix(x,y))"
   ]
  },
  {
   "cell_type": "markdown",
   "metadata": {},
   "source": [
    "Q3. Write the Python program to add 'ing' at the end of the given string\n",
    "(length of the string should be at least 3). If given string already ends\n",
    "with 'ing,' then add 'ly' instead. If string length of the given string is less\n",
    "than 3, leave it unchanged?\n",
    "\n",
    "\n",
    "    Sample string: ' abc '\n",
    "    Expected result: ' abcing '\n",
    "    Sample string: ' string '\n",
    "    Expected result: ' stringly '\n"
   ]
  },
  {
   "cell_type": "code",
   "execution_count": 15,
   "metadata": {},
   "outputs": [
    {
     "name": "stdout",
     "output_type": "stream",
     "text": [
      "stringly\n",
      "\n"
     ]
    }
   ],
   "source": [
    "#Sample string: ' string '\n",
    "#Expected result: ' stringly '\n",
    "\n",
    "def str_ing_ly(str2):\n",
    "    if (len(str) < 3):\n",
    "        print(str2)\n",
    "\n",
    "    elif (str2[3:] == \"ing\"):\n",
    "        str2 = str2 + \"ly\"\n",
    "        print(str2)\n",
    "    else:\n",
    "        str2 = str2[:3] + \"ing\" + str2[3:]\n",
    "        print(str2)\n",
    "    return \"\"\n",
    "\n",
    "str2=\"string\"\n",
    "print(str_ing_ly(str2))"
   ]
  },
  {
   "cell_type": "code",
   "execution_count": 16,
   "metadata": {},
   "outputs": [
    {
     "name": "stdout",
     "output_type": "stream",
     "text": [
      "abcing\n",
      "\n"
     ]
    }
   ],
   "source": [
    "#Sample string: ' abc '\n",
    "#Expected result: ' abcing '\n",
    "\n",
    "def str_ing_ly(str2):\n",
    "    if (len(str2) < 3):\n",
    "        print(str2)\n",
    "\n",
    "    elif (str2[3:] == \"ing\"):\n",
    "        str2 = str2 + \"ly\"\n",
    "        print(str2)\n",
    "    else:\n",
    "        str2 = str2[:3] + \"ing\" + str2[3:]\n",
    "        print(str2)\n",
    "    return \"\"\n",
    "\n",
    "str2=\"abc\"\n",
    "print(str_ing_ly(str2))"
   ]
  },
  {
   "cell_type": "code",
   "execution_count": 17,
   "metadata": {},
   "outputs": [
    {
     "name": "stdout",
     "output_type": "stream",
     "text": [
      "xy\n",
      "\n"
     ]
    }
   ],
   "source": [
    "#Sample string: ' xy ' (length less than 3)\n",
    "#Expected result: ' xy'\n",
    "\n",
    "def str_ing_ly(str2):\n",
    "    if (len(str2) < 3):\n",
    "        print(str2)\n",
    "\n",
    "    elif (str2[3:] == \"ing\"):\n",
    "        str2 = str2 + \"ly\"\n",
    "        print(str2)\n",
    "    else:\n",
    "        str2 = str2[:3] + \"ing\" + str2[3:]\n",
    "        print(str2)\n",
    "    return \"\"\n",
    "\n",
    "str2=\"xy\"\n",
    "print(str_ing_ly(str2))"
   ]
  },
  {
   "cell_type": "markdown",
   "metadata": {},
   "source": [
    "Q4. Write the Python program to find the first appearance of the\n",
    "substring 'not' and 'poor' from the given string, if 'not' follows the 'poor',\n",
    "replace the whole 'not'...' poor' substring with 'good'.Return the resulting\n",
    "string.\n",
    "\n",
    "    Sample string: 'The lyrics are not that poor!'\n",
    "    'The lyrics are poor!'\n",
    "    Expected Result: 'The lyrics are good!'\n",
    "    'The lyrics are poor!'"
   ]
  },
  {
   "cell_type": "code",
   "execution_count": 24,
   "metadata": {},
   "outputs": [
    {
     "name": "stdout",
     "output_type": "stream",
     "text": [
      "The lyrics are good!\n",
      "The lyrics are poor!\n"
     ]
    }
   ],
   "source": [
    "def not_poor(str_g):\n",
    "    str_not = str_g.find('not')\n",
    "    str_bad = str_g.find('poor')\n",
    "\n",
    "    if str_bad > str_not:\n",
    "        str_g = str_g.replace(str_g[str_not:(str_bad + 4)], 'good')\n",
    "\n",
    "    return str_g\n",
    "\n",
    "str_g=\"The lyrics are not that poor!\"+\"\\n\"+\"The lyrics are poor!\"\n",
    "print(not_poor(str_g))"
   ]
  },
  {
   "cell_type": "markdown",
   "metadata": {},
   "source": [
    "Q5. Write the Python program to remove the characters which have odd\n",
    "index values of a given string."
   ]
  },
  {
   "cell_type": "code",
   "execution_count": 25,
   "metadata": {},
   "outputs": [
    {
     "name": "stdout",
     "output_type": "stream",
     "text": [
      " iern\n"
     ]
    }
   ],
   "source": [
    "def remove_Oddchar(str_o):\n",
    "    result = \" \"\n",
    "    for i in range(len(str_o)):\n",
    "\n",
    "        if (i % 2 == 0):\n",
    "            result = result + str_o[i]\n",
    "    return result\n",
    "\n",
    "\n",
    "str_o=\"iNeuron\"\n",
    "print(remove_Oddchar(str_o))\n"
   ]
  },
  {
   "cell_type": "markdown",
   "metadata": {},
   "source": [
    "Q6. Write the python program to print the following floating numbers up\n",
    "to 2 decimal places?"
   ]
  },
  {
   "cell_type": "code",
   "execution_count": 2,
   "metadata": {},
   "outputs": [
    {
     "name": "stdout",
     "output_type": "stream",
     "text": [
      "Formatted Number is: 2.34\n",
      "Formatted Number is: 5.88\n",
      "Formatted Number is: 35.00\n"
     ]
    }
   ],
   "source": [
    "a=2.343234567\n",
    "b=5.87964556\n",
    "c=34.9999999\n",
    "\n",
    "print(\"Formatted Number is: \"+\"{:.2f}\".format(a))\n",
    "print(\"Formatted Number is: \"+\"{:.2f}\".format(b))\n",
    "print(\"Formatted Number is: \"+\"{:.2f}\".format(c))"
   ]
  },
  {
   "cell_type": "markdown",
   "metadata": {},
   "source": [
    "Q7. Write the Python program to format a number with a percentage?"
   ]
  },
  {
   "cell_type": "code",
   "execution_count": 3,
   "metadata": {},
   "outputs": [
    {
     "name": "stdout",
     "output_type": "stream",
     "text": [
      "Given Number is:  0.545\n",
      "Number with percentage is: 54.50%\n",
      "Given Number is:  1.33764\n",
      "Number with percentage is: 133.76%\n"
     ]
    }
   ],
   "source": [
    "c = 0.545\n",
    "d = 1.33764\n",
    "print(\"Given Number is: \", c)\n",
    "print(\"Number with percentage is: \"+\"{:.2%}\".format(c));\n",
    "print(\"Given Number is: \", d)\n",
    "print(\"Number with percentage is: \"+\"{:.2%}\".format(d));"
   ]
  },
  {
   "cell_type": "markdown",
   "metadata": {},
   "source": [
    "Q8. Write the Python program to count occurrences of a substring in a\n",
    "String?"
   ]
  },
  {
   "cell_type": "code",
   "execution_count": 4,
   "metadata": {},
   "outputs": [
    {
     "name": "stdout",
     "output_type": "stream",
     "text": [
      "3\n"
     ]
    }
   ],
   "source": [
    "str_a=\"hai how are you, hai iam fine, hai , hello, \"\n",
    "print(str_a.count(\"hai\"))"
   ]
  },
  {
   "cell_type": "markdown",
   "metadata": {},
   "source": [
    "Q9. Write the Python program to count repeated characters in a string.\n",
    "\n",
    "    Sample string: ' thequickbrownjumpsoverthelazydog '\n",
    "    \n",
    "    Expected output:\n",
    "    o 3\n",
    "    e 3\n",
    "    u 2\n",
    "    h 2\n",
    "    r 2\n",
    "    t 2"
   ]
  },
  {
   "cell_type": "code",
   "execution_count": 26,
   "metadata": {},
   "outputs": [
    {
     "name": "stdout",
     "output_type": "stream",
     "text": [
      "e 3\n",
      "o 3\n",
      "t 2\n",
      "h 2\n",
      "u 2\n",
      "r 2\n"
     ]
    }
   ],
   "source": [
    "import collections\n",
    "str_c = 'thequickbrownjumpsoverthelazydog'\n",
    "d = collections.defaultdict(int)\n",
    "for c in str_c:\n",
    "    d[c] += 1\n",
    "\n",
    "for c in sorted(d, key=d.get, reverse=True):\n",
    "  if d[c] > 1:\n",
    "      print('%s %d' % (c, d[c]))"
   ]
  },
  {
   "cell_type": "markdown",
   "metadata": {},
   "source": [
    "Q10. Write the Python program to print the square and cube symbol in\n",
    "the area of a rectangle and volume of a cylinder?\n",
    "\n",
    "    Sample outputThe area of the rectangle is 1256.66cm2\n",
    "    The volume of the cylinder is 1254.725cm3\n"
   ]
  },
  {
   "cell_type": "code",
   "execution_count": 8,
   "metadata": {},
   "outputs": [
    {
     "name": "stdout",
     "output_type": "stream",
     "text": [
      "The area of the rectangle is 1256.66cm²\n",
      "The volume of the cylinder is 1254.725cm³\n"
     ]
    }
   ],
   "source": [
    "area = 1256.66\n",
    "volume = 1254.725\n",
    "decimals = 2\n",
    "print(\"The area of the rectangle is {0:.{1}f}cm\\u00b2\".format(area, decimals))\n",
    "decimals = 3\n",
    "print(\"The volume of the cylinder is {0:.{1}f}cm\\u00b3\".format(volume, decimals))"
   ]
  },
  {
   "cell_type": "markdown",
   "metadata": {},
   "source": [
    "Q11. Write the Python program to check if a string contains all letters of\n",
    "the alphabet?"
   ]
  },
  {
   "cell_type": "code",
   "execution_count": 1,
   "metadata": {},
   "outputs": [
    {
     "name": "stdout",
     "output_type": "stream",
     "text": [
      "give me a word to check whether it contains all the alphabets are not:\n",
      "abcdefghijklmnopqrstuvxywz\n",
      "('abcdefghijklmnopqrstuvxywz', True)\n"
     ]
    }
   ],
   "source": [
    "def check_alphabet():\n",
    "    n = str(input('give me a word to check whether it contains all the alphabets are not:\\n'))\n",
    "    n = n.lower()\n",
    "    n = n.replace(' ','')\n",
    "    if not isinstance(n, str):\n",
    "        return n, False\n",
    "    elif set(n) >= set('abcdefghijklmnopqrstuvxywz'):\n",
    "        return n, True\n",
    "    else:\n",
    "        return n, False\n",
    "\n",
    "print(check_alphabet())\n"
   ]
  },
  {
   "cell_type": "markdown",
   "metadata": {},
   "source": [
    "Q12. Write the Python program to find the second most repeated word\n",
    "in a given string?"
   ]
  },
  {
   "cell_type": "code",
   "execution_count": 2,
   "metadata": {},
   "outputs": [
    {
     "name": "stdout",
     "output_type": "stream",
     "text": [
      "the list of words in a given string are: ['hai,', 'hello,', 'hello,', 'hello,', 'hai,', 'hai,', 'hello,', 'how', ',', 'how']\n",
      "the second most repeated word in a given string is : ('hai,', 3)\n",
      "\n"
     ]
    }
   ],
   "source": [
    "def word_count(str):\n",
    "    counts = dict()\n",
    "    list_words = str.split()\n",
    "    print(\"the list of words in a given string are:\",list_words)\n",
    "\n",
    "    for word in list_words:\n",
    "        if word in counts:\n",
    "            counts[word] += 1\n",
    "        else:\n",
    "            counts[word] = 1\n",
    "\n",
    "    counts_x = sorted(counts.items(), key=lambda key_value: key_value[1])\n",
    "    #print(counts_x)\n",
    "    print(\"the second most repeated word in a given string is :\",counts_x[-2])\n",
    "    #return counts_x[-2]\n",
    "    return \"\"\n",
    "\n",
    "str_a=\"hai, hello, hello, hello, hai, hai, hello, how , how\"\n",
    "print(word_count(str_a))"
   ]
  },
  {
   "cell_type": "markdown",
   "metadata": {},
   "source": [
    "Q13. Write the Python program to find the minimum window in the given\n",
    "string, which will contains all the characters of another given\n",
    "strings?\n",
    "\n",
    "    Example 1\n",
    "    Input : string1 = \" PRWSOERIUSFK \"\n",
    "    string2 = \" OSU \"\n",
    "    Output: Minimum window is \"OERIUS\""
   ]
  },
  {
   "cell_type": "code",
   "execution_count": 3,
   "metadata": {},
   "outputs": [
    {
     "name": "stdout",
     "output_type": "stream",
     "text": [
      "Original Strings:\n",
      " PRWSOERIUSFK \n",
      " OSU\n",
      "Minimum window:\n",
      "OERIUS\n"
     ]
    }
   ],
   "source": [
    "import collections\n",
    "def min_window(str1, str2):\n",
    "    result_char, missing_char = collections.Counter(str2), len(str2)\n",
    "    i = p = q = 0\n",
    "    for j, c in enumerate(str1, 1):\n",
    "        missing_char -= result_char[c] > 0\n",
    "        result_char[c] -= 1\n",
    "        if not missing_char:\n",
    "            while i < q and result_char[str1[i]] < 0:\n",
    "                result_char[str1[i]] += 1\n",
    "                i += 1\n",
    "            if not q or j - i <= q - p:\n",
    "                p, q = i, j\n",
    "    return str1[p:q]\n",
    "           \n",
    "str1 = \"PRWSOERIUSFK\"\n",
    "str2 = \"OSU\"\n",
    "print(\"Original Strings:\\n\",str1,\"\\n\",str2)\n",
    "print(\"Minimum window:\")\n",
    "print(min_window(str1,str2))\n"
   ]
  },
  {
   "cell_type": "markdown",
   "metadata": {},
   "source": [
    "Q14. Write the Python program to count number of substrings from a\n",
    "given string of lowercase alphabets with exactly k distinct (given)\n",
    "characters?\n",
    "\n",
    "    Input a string (lowercase alphabets): wolf\n",
    "    Input k: 4\n",
    "    Number of substrings with exactly 4 distinct characters: 1"
   ]
  },
  {
   "cell_type": "code",
   "execution_count": 6,
   "metadata": {},
   "outputs": [
    {
     "name": "stdout",
     "output_type": "stream",
     "text": [
      "Input a string (lowercase alphabets):abcd\n",
      "Input k: 2\n",
      "Number of substrings with exactly 2 distinct characters : 3\n"
     ]
    }
   ],
   "source": [
    "def count_k_dist(str1, k):\n",
    "    str_len = len(str1)\n",
    "\n",
    "    result = 0\n",
    "\n",
    "    ctr = [0] * 27\n",
    "\n",
    "    for i in range(0, str_len):\n",
    "        dist_ctr = 0\n",
    "\n",
    "        ctr = [0] * 27\n",
    "\n",
    "        for j in range(i, str_len):\n",
    "\n",
    "            if (ctr[ord(str1[j]) - 97] == 0):\n",
    "                dist_ctr += 1\n",
    "\n",
    "            ctr[ord(str1[j]) - 97] += 1\n",
    "\n",
    "            if (dist_ctr == k):\n",
    "                result += 1\n",
    "            if (dist_ctr > k):\n",
    "                break\n",
    "\n",
    "    return result\n",
    "\n",
    "\n",
    "str1 = input(\"Input a string (lowercase alphabets):\")\n",
    "k = int(input(\"Input k: \"))\n",
    "print(\"Number of substrings with exactly\", k, \"distinct characters : \", end=\"\")\n",
    "print(count_k_dist(str1, k))"
   ]
  },
  {
   "cell_type": "markdown",
   "metadata": {},
   "source": [
    "Q15. Write the Python program to count number of substrings with same\n",
    "first and last characters of the given string?\n",
    "\n",
    "    Input a string: abcd\n",
    "    4\n"
   ]
  },
  {
   "cell_type": "code",
   "execution_count": 27,
   "metadata": {},
   "outputs": [
    {
     "name": "stdout",
     "output_type": "stream",
     "text": [
      "4\n"
     ]
    }
   ],
   "source": [
    "def countSubstrs(str, i, j, n): \n",
    "  \n",
    "    \n",
    "    if (n == 1): \n",
    "        return 1\n",
    "    if (n <= 0): \n",
    "        return 0\n",
    "  \n",
    "    res = (countSubstrs(str, i + 1, j, n - 1)  \n",
    "        + countSubstrs(str, i, j - 1, n - 1)  \n",
    "        - countSubstrs(str, i + 1, j - 1, n - 2))      \n",
    "  \n",
    "    if (str[i] == str[j]): \n",
    "        res += 1\n",
    "  \n",
    "    return res \n",
    "  \n",
    " \n",
    "str = \"abcd\"\n",
    "n = len(str) \n",
    "print(countSubstrs(str, 0, n - 1, n))"
   ]
  },
  {
   "cell_type": "markdown",
   "metadata": {},
   "source": [
    "## Great Job!"
   ]
  },
  {
   "cell_type": "code",
   "execution_count": null,
   "metadata": {},
   "outputs": [],
   "source": []
  }
 ],
 "metadata": {
  "kernelspec": {
   "display_name": "Python 3",
   "language": "python",
   "name": "python3"
  },
  "language_info": {
   "codemirror_mode": {
    "name": "ipython",
    "version": 3
   },
   "file_extension": ".py",
   "mimetype": "text/x-python",
   "name": "python",
   "nbconvert_exporter": "python",
   "pygments_lexer": "ipython3",
   "version": "3.7.4"
  }
 },
 "nbformat": 4,
 "nbformat_minor": 2
}
