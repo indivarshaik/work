{
 "cells": [
  {
   "cell_type": "markdown",
   "metadata": {},
   "source": [
    "# Assignment"
   ]
  },
  {
   "cell_type": "markdown",
   "metadata": {},
   "source": [
    "Q1. Write the NumPy program to create an array of ones and an array\n",
    "of zeros?\n",
    "\n",
    "    Expected OutputCreate an array of zeros\n",
    "    Default type is float\n",
    "    [[ 0. 0.]]\n",
    "    Type changes to int\n",
    "    [[0 0]]\n",
    "    Create an array of ones\n",
    "    Default type is float\n",
    "    [[ 1. 1.]]\n",
    "    Type changes to int\n",
    "    [[1 1]]"
   ]
  },
  {
   "cell_type": "code",
   "execution_count": 1,
   "metadata": {},
   "outputs": [
    {
     "name": "stdout",
     "output_type": "stream",
     "text": [
      "creating [[ 0. 0.]] array, default datatype is float:\n",
      "\n",
      "[[0. 0.]]\n",
      "\n",
      "\n",
      "Converting data type to int\n",
      "[[0 0]]\n",
      "type of arr1_new is:  <class 'numpy.ndarray'>\n",
      "dtype of arr1_new is:  int32\n",
      "\n",
      "\n",
      "creating [[ 1. 1.]] array, default datatype is float:\n",
      "\n",
      "[[1. 1.]]\n",
      "\n",
      "\n",
      "Converting data type to int\n",
      "[[1 1]]\n",
      "type of arr2_new is:  <class 'numpy.ndarray'>\n",
      "dtype of arr2_new is:  int32\n"
     ]
    }
   ],
   "source": [
    "import numpy as np\n",
    "\n",
    "print(\"creating [[ 0. 0.]] array, default datatype is float:\\n\")\n",
    "arr1=np.zeros((1,2))\n",
    "print(arr1)\n",
    "print(\"\\n\")\n",
    "\n",
    "print(\"Converting data type to int\")\n",
    "arr1_new=np.zeros((1,2),dtype=int)\n",
    "print(arr1_new)\n",
    "print(\"type of arr1_new is: \",type(arr1_new))\n",
    "print(\"dtype of arr1_new is: \",arr1_new.dtype)\n",
    "\n",
    "print(\"\\n\")\n",
    "\n",
    "print(\"creating [[ 1. 1.]] array, default datatype is float:\\n\")\n",
    "arr2=np.ones((1,2))\n",
    "print(arr2)\n",
    "print(\"\\n\") \n",
    "\n",
    "\n",
    "print(\"Converting data type to int\")\n",
    "arr2_new=np.ones((1,2),dtype=int)\n",
    "print(arr2_new)\n",
    "print(\"type of arr2_new is: \",type(arr2_new))\n",
    "print(\"dtype of arr2_new is: \",arr2_new.dtype)\n"
   ]
  },
  {
   "cell_type": "markdown",
   "metadata": {},
   "source": [
    "Q2. Write the NumPy program to change the dimension of an array?\n",
    "\n",
    "    Expected Output6 rows and 0 columns\n",
    "    (6,)\n",
    "    (3, 3) -> 3 rows and 3 columns\n",
    "    [[1 2 3]\n",
    "    [4 5 6]\n",
    "    [7 8 9]]\n",
    "    Change array shape to (3, 3) -> 3 rows and 3 columns\n",
    "    [[1 2 3]\n",
    "    [4 5 6]\n",
    "    [7 8 9]]"
   ]
  },
  {
   "cell_type": "code",
   "execution_count": 2,
   "metadata": {},
   "outputs": [
    {
     "name": "stdout",
     "output_type": "stream",
     "text": [
      "Array1 is:\n",
      " [1 2 3 4 5 6]\n",
      "the shape of array1 is: \n",
      "(6,)\n",
      "\n",
      "\n",
      "Array2 is:\n",
      " [[1 2 3]\n",
      " [4 5 6]\n",
      " [7 8 9]]\n",
      "the shape of array2 is: \n",
      "(3, 3)\n",
      "\n",
      "\n",
      "Array3 is:\n",
      " [1 2 3 4 5 6 7 8 9]\n",
      "the shape of reshaped array3 is: \n",
      "(3, 3)\n"
     ]
    }
   ],
   "source": [
    "array1 = np.array([1,2,3,4,5,6])\n",
    "print(\"Array1 is:\\n\",array1)\n",
    "print (\"the shape of array1 is: \")\n",
    "print(array1.shape)\n",
    "print(\"\\n\")\n",
    "\n",
    "array2 = np.array([[1,2,3],[4,5,6],[7,8,9]])\n",
    "print(\"Array2 is:\\n\",array2)\n",
    "print (\"the shape of array2 is: \")\n",
    "print(array2.shape)\n",
    "print(\"\\n\") \n",
    "\n",
    "array3 = np.array([1,2,3,4,5,6,7,8,9])\n",
    "print(\"Array3 is:\\n\",array3)\n",
    "array3_new=array3.reshape(3,3)\n",
    "print (\"the shape of reshaped array3 is: \")\n",
    "print(array3_new.shape)"
   ]
  },
  {
   "cell_type": "markdown",
   "metadata": {},
   "source": [
    "Q3. Write the NumPy program to create a new shape to an array\n",
    "without changing its data ?\n",
    "\n",
    "    Reshape 3x2-\n",
    "    [[1 2]\n",
    "    [3 4]\n",
    "    [5 6]]\n",
    "    Reshape 2x3-\n",
    "    [[1 2 3]\n",
    "    [4 5 6]]"
   ]
  },
  {
   "cell_type": "code",
   "execution_count": 3,
   "metadata": {},
   "outputs": [
    {
     "name": "stdout",
     "output_type": "stream",
     "text": [
      "given array 3X2 is:\n",
      " [[1 2]\n",
      " [3 4]\n",
      " [5 6]]\n",
      "reshaped array 2X3 is:\n",
      " [[1 2 3]\n",
      " [4 5 6]]\n"
     ]
    }
   ],
   "source": [
    "arr3=np.array([[1,2],[3,4],[5,6]])\n",
    "print(\"given array 3X2 is:\\n\",arr3)\n",
    "\n",
    "arr3_new=arr3.reshape(2,3)\n",
    "print(\"reshaped array 2X3 is:\\n\",arr3_new)"
   ]
  },
  {
   "cell_type": "markdown",
   "metadata": {},
   "source": [
    "Q4. Write the NumPy program to create a new array of 3*5, filled with\n",
    "2?\n",
    "\n",
    "    Expected Output-\n",
    "    [[2 2 2 2 2]\n",
    "    [2 2 2 2 2]\n",
    "    [2 2 2 2 2]]\n",
    "    [[2 2 2 2 2]\n",
    "    [2 2 2 2 2]\n",
    "    [2 2 2 2 2]]"
   ]
  },
  {
   "cell_type": "code",
   "execution_count": 4,
   "metadata": {},
   "outputs": [
    {
     "name": "stdout",
     "output_type": "stream",
     "text": [
      "array of 3*5, filled with 2 is:\n",
      "\n",
      "[[2 2 2 2 2]\n",
      " [2 2 2 2 2]\n",
      " [2 2 2 2 2]]\n"
     ]
    }
   ],
   "source": [
    "#in the question it is mentioned as 3X5, but expected output it is shown as different(displayed twice)\n",
    "print(\"array of 3*5, filled with 2 is:\\n\")\n",
    "print(np.full((3,5),2,dtype=np.int))\n"
   ]
  },
  {
   "cell_type": "markdown",
   "metadata": {},
   "source": [
    "Q5. Write the NumPy program to create a 3-D array with ones on a\n",
    "diagonal and zeros elsewhere?\n",
    "\n",
    "    Expected Output-\n",
    "    [[ 1. 0. 0.]\n",
    "    [ 0. 1. 0.]\n",
    "    [ 0. 0. 1.]]"
   ]
  },
  {
   "cell_type": "code",
   "execution_count": 5,
   "metadata": {},
   "outputs": [
    {
     "name": "stdout",
     "output_type": "stream",
     "text": [
      "A 3-D array with ones on a diagonal and zeros elsewhere is: \n",
      "\n",
      "[[1. 0. 0.]\n",
      " [0. 1. 0.]\n",
      " [0. 0. 1.]]\n"
     ]
    }
   ],
   "source": [
    "arr4=np.identity(3)\n",
    "print(\"A 3-D array with ones on a diagonal and zeros elsewhere is: \\n\")\n",
    "print(arr4)"
   ]
  },
  {
   "cell_type": "markdown",
   "metadata": {},
   "source": [
    "Q6. Write the NumPy program to split an array of 14 elements into the\n",
    "3 arrays and each of which has 2, 4, and 8 elements in original\n",
    "order?\n",
    "\n",
    "    Expected OutputOriginal array- [ 1 2 3 4 5 6 7 8 9 10 11 12 13 14]\n",
    "    After splitting-\n",
    "    [array([1, 2]), array([3, 4, 5, 6]), array([ 7, 8, 9, 10, 11, 12, 13, 14])]"
   ]
  },
  {
   "cell_type": "code",
   "execution_count": 6,
   "metadata": {},
   "outputs": [
    {
     "name": "stdout",
     "output_type": "stream",
     "text": [
      "the given array of 14 elements is: \n",
      "\n",
      "[ 1  2  3  4  5  6  7  8  9 10 11 12 13 14]\n",
      "\n",
      "\n",
      "the array after splitting is: \n",
      "\n",
      "[array([1, 2]), array([3, 4, 5, 6]), array([ 7,  8,  9, 10, 11, 12, 13, 14])]\n"
     ]
    }
   ],
   "source": [
    "arr5=np.array([ 1 ,2, 3, 4, 5, 6, 7, 8, 9, 10, 11, 12, 13, 14])\n",
    "\n",
    "print(\"the given array of 14 elements is: \\n\")\n",
    "print(arr5)\n",
    "print(\"\\n\")\n",
    "\n",
    "arr5_new=np.split(arr5,[2,6])\n",
    "print(\"the array after splitting is: \\n\")\n",
    "print(arr5_new)"
   ]
  },
  {
   "cell_type": "markdown",
   "metadata": {},
   "source": [
    "Q7. Write the NumPy program to split of an array of shape 4x4 it into\n",
    "two arrays along the second axis ?\n",
    "\n",
    "    Sample array -\n",
    "    [[ 0 1 2 3]\n",
    "    [ 4 5 6 7]\n",
    "    [ 8 9 10 11]\n",
    "    [12 13 14 15]]\n",
    "    Expected Output-\n",
    "    [array([[ 0, 1],\n",
    "    [ 4, 5],\n",
    "    [ 8, 9],\n",
    "    [12, 13]]), array([[ 2, 3],\n",
    "    [ 6, 7],\n",
    "    [10, 11],\n",
    "    [14, 15]]), array([], shape=(4, 0), dtype=int64)]"
   ]
  },
  {
   "cell_type": "code",
   "execution_count": 7,
   "metadata": {},
   "outputs": [
    {
     "name": "stdout",
     "output_type": "stream",
     "text": [
      "the given 4X4 array is:\n",
      " [[ 0  1  2  3]\n",
      " [ 4  5  6  7]\n",
      " [ 8  9 10 11]\n",
      " [12 13 14 15]]\n",
      "\n",
      "\n",
      "The formatted array with two arrays is:\n",
      "\n",
      "[array([[ 0,  1],\n",
      "       [ 4,  5],\n",
      "       [ 8,  9],\n",
      "       [12, 13]]), array([], shape=(4, 0), dtype=int32), array([[ 2,  3],\n",
      "       [ 6,  7],\n",
      "       [10, 11],\n",
      "       [14, 15]])]\n"
     ]
    }
   ],
   "source": [
    "arr6=np.array(([[0,1,2,3],[4,5,6,7],[8,9,10,11],[12,13,14,15]]))\n",
    "print(\"the given 4X4 array is:\\n\", arr6)\n",
    "print(\"\\n\")\n",
    "\n",
    "print(\"The formatted array with two arrays is:\\n\")\n",
    "arr6_new=np.split(arr6,[2,2],axis=1)\n",
    "print(arr6_new)"
   ]
  },
  {
   "cell_type": "markdown",
   "metadata": {},
   "source": [
    "Q8. Write the NumPy program to create a 5x5 matrix with row values\n",
    "ranging from 0 to 4?\n",
    "\n",
    "    Original array-\n",
    "    [[ 0. 0. 0. 0. 0.]\n",
    "    [ 0. 0. 0. 0. 0.]\n",
    "    [ 0. 0. 0. 0. 0.]\n",
    "    [ 0. 0. 0. 0. 0.]\n",
    "    [ 0. 0. 0. 0. 0.]]\n",
    "    Row values ranging from 0 to 4.\n",
    "    [[ 0. 1. 2. 3. 4.]\n",
    "    [ 0. 1. 2. 3. 4.]\n",
    "    [ 0. 1. 2. 3. 4.]\n",
    "    [ 0. 1. 2. 3. 4.]\n",
    "    [ 0. 1. 2. 3. 4.]]"
   ]
  },
  {
   "cell_type": "code",
   "execution_count": 8,
   "metadata": {},
   "outputs": [
    {
     "name": "stdout",
     "output_type": "stream",
     "text": [
      "Original array with 5X5 and with zeros: \n",
      " [[0. 0. 0. 0. 0.]\n",
      " [0. 0. 0. 0. 0.]\n",
      " [0. 0. 0. 0. 0.]\n",
      " [0. 0. 0. 0. 0.]\n",
      " [0. 0. 0. 0. 0.]]\n",
      "\n",
      "\n",
      "The output matrix with row values ranging from 0 to 4 is:\n",
      "\n",
      "[[0. 1. 2. 3. 4.]\n",
      " [0. 1. 2. 3. 4.]\n",
      " [0. 1. 2. 3. 4.]\n",
      " [0. 1. 2. 3. 4.]\n",
      " [0. 1. 2. 3. 4.]]\n"
     ]
    }
   ],
   "source": [
    "arr7=np.zeros([5,5])\n",
    "print(\"Original array with 5X5 and with zeros: \\n\", arr7)\n",
    "print(\"\\n\")\n",
    "\n",
    "print(\"The output matrix with row values ranging from 0 to 4 is:\\n\")\n",
    "for i in range(len(arr7)):\n",
    "    for j in range(i+1):\n",
    "        arr7[i][1:5] = [1, 2, 3, 4]\n",
    "      \n",
    "print(arr7)"
   ]
  },
  {
   "cell_type": "markdown",
   "metadata": {},
   "source": [
    "Q9. Write the NumPy program to create an array of zeros and three\n",
    "column types (integer, float, character)?\n",
    "\n",
    "    Expected Output-\n",
    "    [(1, 2., b'Albert Einstein') (2, 2., b'Edmond Halley')\n",
    "    (3, 3., b'Gertrude B. Elion')]"
   ]
  },
  {
   "cell_type": "code",
   "execution_count": 9,
   "metadata": {},
   "outputs": [
    {
     "name": "stdout",
     "output_type": "stream",
     "text": [
      "Original array with 3X3 and with zeros: \n",
      " [[(0, 0., b'') (0, 0., b'') (0, 0., b'')]]\n",
      "\n",
      "\n",
      "The output array with 3 column types (integer, float, character) are: \n",
      " [[(1, 2., b'Albert Ein') (2, 2., b'Edmond Hal') (3, 3., b'Gertrude B')]]\n"
     ]
    }
   ],
   "source": [
    "arr8=np.zeros((1,3),dtype='i4,f2,S10')\n",
    "print(\"Original array with 3X3 and with zeros: \\n\", arr8)\n",
    "print(\"\\n\")\n",
    "\n",
    "arr8[0][0]=(1, 2., b'Albert Einstein')\n",
    "arr8[0][1]=(2, 2., b'Edmond Halley')\n",
    "arr8[0][2]=(3, 3., b'Gertrude B. Elion')\n",
    "\n",
    "\n",
    "print(\"The output array with 3 column types (integer, float, character) are: \\n\",arr8)"
   ]
  },
  {
   "cell_type": "markdown",
   "metadata": {},
   "source": [
    "Q10. Write the NumPy program to remove the negative values in the\n",
    "numpy array with 0?\n",
    "\n",
    "    Expected OutputOriginal array:\n",
    "    [-1 -4 0 2 3 4 5 -6]\n",
    "    Replace the negative values of the said array with 0-\n",
    "    [0 0 0 2 3 4 5 0]"
   ]
  },
  {
   "cell_type": "code",
   "execution_count": 10,
   "metadata": {},
   "outputs": [
    {
     "name": "stdout",
     "output_type": "stream",
     "text": [
      "The orginal array  is:\n",
      " [-1 -4  0  2  3  4  5 -6]\n",
      "The output array by replacing negative values with zeros  is:\n",
      " [0 0 0 2 3 4 5 0]\n"
     ]
    }
   ],
   "source": [
    "arr9=np.array([-1, -4, 0, 2, 3, 4, 5, -6], dtype=int)\n",
    "print(\"The orginal array  is:\\n\",arr9)\n",
    "\n",
    "arr9[arr9 < 0] = 0\n",
    "print(\"The output array by replacing negative values with zeros  is:\\n\",arr9)"
   ]
  },
  {
   "cell_type": "markdown",
   "metadata": {},
   "source": [
    "Q11. Write the NumPy program to compute the histogram of a set of\n",
    "data?"
   ]
  },
  {
   "cell_type": "code",
   "execution_count": 11,
   "metadata": {},
   "outputs": [
    {
     "data": {
      "text/plain": [
       "<Figure size 640x480 with 1 Axes>"
      ]
     },
     "metadata": {},
     "output_type": "display_data"
    }
   ],
   "source": [
    "import matplotlib.pyplot as plt\n",
    "arr10= np.array([22,87,5,43,56,73,55,54,11,20,51,5,79,31,27])\n",
    "plt.hist(arr10, bins = [0,25,50,75,100])\n",
    "\n",
    "plt.show()"
   ]
  },
  {
   "cell_type": "markdown",
   "metadata": {},
   "source": [
    "Q12. Write the NumPy program to compute the line graph of a set of\n",
    "data?"
   ]
  },
  {
   "cell_type": "code",
   "execution_count": 12,
   "metadata": {},
   "outputs": [
    {
     "data": {
      "image/png": "[encoded data removed]",
      "text/plain": [
       "<Figure size 432x288 with 1 Axes>"
      ]
     },
     "metadata": {
      "needs_background": "light"
     },
     "output_type": "display_data"
    }
   ],
   "source": [
    "import matplotlib.pyplot as plt\n",
    "\n",
    "arr11=np.array([1,2,3,4,5,6])\n",
    "arr12=np.array([2,4,1,5,2,6])\n",
    "\n",
    "plt.xlabel('X - axis')\n",
    "plt.ylabel('Y - axis')\n",
    "plt.title('Line graph')\n",
    "\n",
    "plt.plot(arr11, arr12)\n",
    "plt.show()"
   ]
  },
  {
   "cell_type": "markdown",
   "metadata": {},
   "source": [
    "Q13. Write the NumPy program to extracts all the elements from second\n",
    "row from given (4x4) array?\n",
    "    \n",
    "    Sample OutputOriginal array-\n",
    "    [[ 0 1 2 3]\n",
    "    [ 4 5 6 7]\n",
    "    [ 8 9 10 11]\n",
    "    [12 13 14 15]]\n",
    "    Extracted data- Second row\n",
    "    [4 5 6 7]"
   ]
  },
  {
   "cell_type": "code",
   "execution_count": 13,
   "metadata": {},
   "outputs": [
    {
     "name": "stdout",
     "output_type": "stream",
     "text": [
      "The Sample array  is:\n",
      "\n",
      "[[ 0  1  2  3]\n",
      " [ 4  5  6  7]\n",
      " [ 8  9 10 11]\n",
      " [12 13 14 15]]\n",
      "Extracted data from the given array--Second row is:\n",
      "[4 5 6 7]\n"
     ]
    }
   ],
   "source": [
    "arr13=np.array([[ 0 ,1, 2 ,3],[ 4 ,5 ,6 ,7],[ 8 ,9 ,10 ,11],[12 ,13 ,14 ,15]])\n",
    "print(\"The Sample array  is:\\n\")\n",
    "print(arr13)\n",
    "\n",
    "print(\"Extracted data from the given array--Second row is:\")\n",
    "print(arr13[1])"
   ]
  },
  {
   "cell_type": "markdown",
   "metadata": {},
   "source": [
    "Q14. Write the NumPy program to extract first element of the second\n",
    "row and fourth element of fourth row from a given (4x4) array?\n",
    "\n",
    "    Sample OutputOriginal array-\n",
    "    [[ 0 1 2 3]\n",
    "    [ 4 5 6 7]\n",
    "    [ 8 9 10 11]\n",
    "    [12 13 14 15]]\n",
    "    Extracted data- First element of the second row and fourth element of fourth row\n",
    "    [ 4 15]\n"
   ]
  },
  {
   "cell_type": "code",
   "execution_count": 14,
   "metadata": {},
   "outputs": [
    {
     "name": "stdout",
     "output_type": "stream",
     "text": [
      "The Sample array  is:\n",
      "\n",
      "[[ 0  1  2  3]\n",
      " [ 4  5  6  7]\n",
      " [ 8  9 10 11]\n",
      " [12 13 14 15]]\n",
      "Extracted data from the given array--First element of the second row and fourth element of fourth row:\n",
      "[ 4 15]\n"
     ]
    }
   ],
   "source": [
    "arr14=np.array([[ 0 ,1, 2 ,3],[ 4 ,5 ,6 ,7],[ 8 ,9 ,10 ,11],[12 ,13 ,14 ,15]])\n",
    "print(\"The Sample array  is:\\n\")\n",
    "print(arr14)\n",
    "\n",
    "print(\"Extracted data from the given array--First element of the second row and fourth element of fourth row:\")\n",
    "a=np.array([arr14[1][0],arr14[3][3]])\n",
    "\n",
    "print(a)"
   ]
  },
  {
   "cell_type": "markdown",
   "metadata": {},
   "source": [
    "Q15. Write the NumPy program to add two arrays A and B of sizes (3,3)\n",
    "and (,3)?\n",
    "\n",
    "    Sample OutputOriginal arrayArray-1\n",
    "    [[1 1 1]\n",
    "    [1 1 1]\n",
    "    [1 1 1]]\n",
    "    Array-2\n",
    "    [0 1 2]\n",
    "    A + B:\n",
    "    [[1 2 3]\n",
    "    [1 2 3]\n",
    "    [1 2 3]]"
   ]
  },
  {
   "cell_type": "code",
   "execution_count": 15,
   "metadata": {},
   "outputs": [
    {
     "name": "stdout",
     "output_type": "stream",
     "text": [
      "The Sample array with 3X3 and elements as ones A is:\n",
      "\n",
      "[[1 1 1]\n",
      " [1 1 1]\n",
      " [1 1 1]]\n",
      "The second array B is:\n",
      "\n",
      "[0 1 2]\n",
      "The addition of two arrays A+B is;\n",
      "\n",
      "[[1 2 3]\n",
      " [1 2 3]\n",
      " [1 2 3]]\n"
     ]
    }
   ],
   "source": [
    "A=np.ones([3,3],dtype=int)\n",
    "print(\"The Sample array with 3X3 and elements as ones A is:\\n\")\n",
    "print(A)\n",
    "\n",
    "B=np.array([0,1,2])\n",
    "print(\"The second array B is:\\n\")\n",
    "print(B)\n",
    "\n",
    "add_array=A+B\n",
    "print(\"The addition of two arrays A+B is;\\n\")\n",
    "print(add_array)"
   ]
  },
  {
   "cell_type": "markdown",
   "metadata": {},
   "source": [
    "Q16. Write the NumPy program to copy data from a given array to\n",
    "another array?\n",
    "\n",
    "    Sample OutputOriginal array-\n",
    "    [24 27 30 29 18 14]\n",
    "    Copy of the said array-\n",
    "    [24 27 30 29 18 14]"
   ]
  },
  {
   "cell_type": "code",
   "execution_count": 16,
   "metadata": {},
   "outputs": [
    {
     "name": "stdout",
     "output_type": "stream",
     "text": [
      "Original array is: \n",
      " [24 27 30 29 18 14]\n",
      "The new array after copying from original array is:\n",
      " [24 27 30 29 18 14]\n"
     ]
    }
   ],
   "source": [
    "arr15=np.array([24 ,27, 30, 29, 18, 14])\n",
    "print(\"Original array is: \\n\",arr15)\n",
    "\n",
    "\n",
    "arr16=np.copy(arr15)\n",
    "print(\"The new array after copying from original array is:\\n\",arr16)"
   ]
  },
  {
   "cell_type": "markdown",
   "metadata": {},
   "source": [
    "Q17. Write the NumPy program to calculate the sum of all columns of\n",
    "the 2D numpy array?\n",
    "    \n",
    "    Sample OutputOriginal array-\n",
    "    [[ 0 1 2 3 4 5 6 7 8]\n",
    "    [ 9 10 11 12 13 14 15 16 17]\n",
    "    [18 19 20 21 22 23 24 25 26]\n",
    "    [27 28 29 30 31 32 33 34 35]]\n",
    "    Sum of all columns-\n",
    "    [54 58 62 66 70 74 78 82 86]"
   ]
  },
  {
   "cell_type": "code",
   "execution_count": 17,
   "metadata": {},
   "outputs": [
    {
     "name": "stdout",
     "output_type": "stream",
     "text": [
      "Original array with 0 t0 elements of 4X9 size is:\n",
      "\n",
      "[[ 0  1  2  3  4  5  6  7  8]\n",
      " [ 9 10 11 12 13 14 15 16 17]\n",
      " [18 19 20 21 22 23 24 25 26]\n",
      " [27 28 29 30 31 32 33 34 35]]\n",
      "\n",
      "\n",
      "the sum of elements in columns is:\n",
      " [54 58 62 66 70 74 78 82 86]\n"
     ]
    }
   ],
   "source": [
    "arr17=np.arange(36).reshape(4,9)\n",
    "print(\"Original array with 0 t0 elements of 4X9 size is:\\n\")\n",
    "print(arr17)\n",
    "print(\"\\n\")\n",
    "\n",
    "print(\"the sum of elements in columns is:\\n\",np.sum(arr17,axis=0))"
   ]
  },
  {
   "cell_type": "markdown",
   "metadata": {},
   "source": [
    "Q18. Write the NumPy program to calculate averages without NaNs\n",
    "along the given array?\n",
    "    \n",
    "    Sample OutputOriginal array-\n",
    "    [[10. 20. 30.]\n",
    "    [40. 50. nan]\n",
    "    [nan 6. nan]\n",
    "    [nan nan nan]]\n",
    "    Averages without NaNs along the said array-\n",
    "    [20. 45. 6. nan]"
   ]
  },
  {
   "cell_type": "code",
   "execution_count": 18,
   "metadata": {},
   "outputs": [
    {
     "name": "stdout",
     "output_type": "stream",
     "text": [
      "Original array:\n",
      "[[10. 20. 30.]\n",
      " [40. 50. nan]\n",
      " [nan  6. nan]\n",
      " [nan nan nan]]\n",
      "\n",
      "\n",
      "Averages without NaNs along the original array are:\n",
      "\n",
      "[20. 45.  6. nan]\n"
     ]
    }
   ],
   "source": [
    "arr18 = np.array([[10, 20 ,30], [40, 50, np.nan], [np.nan, 6, np.nan], [np.nan, np.nan, np.nan]])\n",
    "print(\"Original array:\")\n",
    "print(arr18)\n",
    "\n",
    "print(\"\\n\")\n",
    "arr18_new=np.ma.masked_array(arr18,np.isnan(arr18))\n",
    "#print(arr18_new)\n",
    "output=np.mean(arr18_new,axis=1)\n",
    "\n",
    "#print(output)\n",
    "print(\"Averages without NaNs along the original array are:\\n\")\n",
    "print(output.filled(np.nan))"
   ]
  },
  {
   "cell_type": "markdown",
   "metadata": {},
   "source": [
    "## Great Job!"
   ]
  }
 ],
 "metadata": {
  "kernelspec": {
   "display_name": "Python 3",
   "language": "python",
   "name": "python3"
  },
  "language_info": {
   "codemirror_mode": {
    "name": "ipython",
    "version": 3
   },
   "file_extension": ".py",
   "mimetype": "text/x-python",
   "name": "python",
   "nbconvert_exporter": "python",
   "pygments_lexer": "ipython3",
   "version": "3.7.4"
  }
 },
 "nbformat": 4,
 "nbformat_minor": 2
}
