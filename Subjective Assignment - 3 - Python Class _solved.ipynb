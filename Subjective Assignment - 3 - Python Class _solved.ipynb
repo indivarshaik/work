{
 "cells": [
  {
   "cell_type": "markdown",
   "metadata": {},
   "source": [
    "# Assignment"
   ]
  },
  {
   "cell_type": "markdown",
   "metadata": {},
   "source": [
    "Q1. Write the Python class to convert an integer to a roman numeral?"
   ]
  },
  {
   "cell_type": "code",
   "execution_count": 1,
   "metadata": {},
   "outputs": [
    {
     "name": "stdout",
     "output_type": "stream",
     "text": [
      "Corresponding Roman value for given integer is:\t\n",
      "XV\n",
      "Corresponding Roman value for given integer is:\t\n",
      "ML\n"
     ]
    }
   ],
   "source": [
    "class convert_int_roman():\n",
    "\n",
    "    def int_to_Roman(num):\n",
    "        num_map = [(1000, 'M'), (900, 'CM'), (500, 'D'), (400, 'CD'), (100, 'C'), (90, 'XC'),\n",
    "                   (50, 'L'), (40, 'XL'), (10, 'X'), (9, 'IX'), (5, 'V'), (4, 'IV'), (1, 'I')]\n",
    "\n",
    "        roman = ''\n",
    "\n",
    "        while num > 0:\n",
    "            for i, r in num_map:\n",
    "                while num >= i:\n",
    "                    roman += r\n",
    "                    num -= i\n",
    "\n",
    "        print(\"Corresponding Roman value for given integer is:\\t\")   \n",
    "        return roman\n",
    "\n",
    "print(convert_int_roman.int_to_Roman(15))\n",
    "print(convert_int_roman.int_to_Roman(1050))\n"
   ]
  },
  {
   "cell_type": "markdown",
   "metadata": {},
   "source": [
    "Q2 Write the Python class to convert a Roman numeral to an integer?\n"
   ]
  },
  {
   "cell_type": "code",
   "execution_count": 2,
   "metadata": {},
   "outputs": [
    {
     "name": "stdout",
     "output_type": "stream",
     "text": [
      "Enter a roman numeral: XV\n",
      "Corresponding integer value for given Roman number is:\t\n",
      "15\n",
      "\n"
     ]
    }
   ],
   "source": [
    "class convert_roman_int():\n",
    "    \n",
    "    def Roman_to_int():\n",
    "        val = {'I': 1, 'V': 5, 'X': 10, 'L': 50, 'C': 100, 'D': 500, 'M': 1000}\n",
    "        string = str(input('Enter a roman numeral: '))\n",
    "        string = string.upper()\n",
    "        total = 0\n",
    "        while string:\n",
    "            if len(string) == 1 or val[string[0]] >= val[string[1]]:\n",
    "                total += val[string[0]]\n",
    "                string = string[1:]\n",
    "            else:\n",
    "                total += val[string[1]] - val[string[0]]\n",
    "                string = string[2:]\n",
    "        print(\"Corresponding integer value for given Roman number is:\\t\")\n",
    "        print (total)\n",
    "        return \"\"\n",
    "\n",
    "print( convert_roman_int.Roman_to_int())"
   ]
  },
  {
   "cell_type": "markdown",
   "metadata": {},
   "source": [
    "Q3. Write the Python class to find the validity of the string of the\n",
    "parentheses, '(', ')', '{', '}', '[' and '] and the brackets must be closed\n",
    "in the correct order, example - \"()\" and \"()[]{}\" are valid but \"[)\",\n",
    "\"({[)]\" and \"{{{\" are invalid.\n"
   ]
  },
  {
   "cell_type": "code",
   "execution_count": 3,
   "metadata": {},
   "outputs": [
    {
     "name": "stdout",
     "output_type": "stream",
     "text": [
      "(){}[] - True\n",
      "()[{)} - False\n",
      "() - True\n"
     ]
    }
   ],
   "source": [
    "class paretheses():\n",
    "    def check(my_string):\n",
    "        brackets = ['()', '{}', '[]']\n",
    "        while any(x in my_string for x in brackets):\n",
    "            for br in brackets:\n",
    "                my_string = my_string.replace(br, '')\n",
    "        return not my_string\n",
    "\n",
    "\n",
    "string1 = \"(){}[]\"\n",
    "string2=\"()[{)}\"\n",
    "string3=\"()\"\n",
    "print(string1, \"-\", \"True\" if paretheses.check(string1) else \"False\")\n",
    "print(string2, \"-\", \"True\" if paretheses.check(string2) else \"False\")\n",
    "print(string3, \"-\", \"True\" if paretheses.check(string3) else \"False\")"
   ]
  },
  {
   "cell_type": "markdown",
   "metadata": {},
   "source": [
    "Q4. Write the Python class to get all possible unique subsets from a set\n",
    "of distinct integers?\n",
    "\n",
    "    Input - [4, 5, 6]\n",
    "    Output - [[], [6], [5], [5, 6], [4], [4, 6], [4, 5], [4, 5, 6]]"
   ]
  },
  {
   "cell_type": "code",
   "execution_count": 4,
   "metadata": {},
   "outputs": [
    {
     "name": "stdout",
     "output_type": "stream",
     "text": [
      "input is:\t [4, 5, 6]\n",
      "Output is:\t [[], [6], [5], [5, 6], [4], [4, 6], [4, 5], [4, 5, 6]]\n"
     ]
    }
   ],
   "source": [
    "class unique_subsets():\n",
    "    def f1(self, s1):\n",
    "        return self.f2([], sorted(s1))\n",
    "\n",
    "    def f2(self, curr, s1):\n",
    "        if s1:\n",
    "            return self.f2(curr, s1[1:]) + self.f2(curr + [s1[0]], s1[1:])\n",
    "        return [curr]\n",
    "\n",
    "lst=[4,5,6]\n",
    "print(\"input is:\\t\",lst)\n",
    "print(\"Output is:\\t\",unique_subsets().f1(lst))\n",
    "\n"
   ]
  },
  {
   "cell_type": "markdown",
   "metadata": {},
   "source": [
    "Q5. Write the Python class to find a pair of elements (indices of the two\n",
    "numbers) from a given array whose sum equals the specific target\n",
    "number?\n",
    "\n",
    "    Input: numbers- [10,20,10,40,50,60,70], target=50\n",
    "    Output- 3, 4"
   ]
  },
  {
   "cell_type": "code",
   "execution_count": 5,
   "metadata": {},
   "outputs": [
    {
     "name": "stdout",
     "output_type": "stream",
     "text": [
      "index1=2, index2=3\n"
     ]
    }
   ],
   "source": [
    "class sum_taget():\n",
    "   def given_sum(self, nums, target):\n",
    "        lookup = {}\n",
    "        for i, num in enumerate(nums):\n",
    "            if target - num in lookup:\n",
    "                return (lookup[target - num], i )\n",
    "            lookup[num] = i\n",
    "\n",
    "\n",
    "lst=[10,20,10,40,50,60,70]\n",
    "print(\"index1=%d, index2=%d\" % sum_taget().given_sum(lst,50))\n",
    "\n"
   ]
  },
  {
   "cell_type": "markdown",
   "metadata": {},
   "source": [
    "Q6. Write the Python class to find the three elements that sum to zero\n",
    "from the set of n real numbers?\n",
    "\n",
    "    Input array- [-25, -10, -7, -3, 2, 4, 8, 10]\n",
    "    Output - [[-10, 2, 8], [-7, -3, 10]]\n"
   ]
  },
  {
   "cell_type": "code",
   "execution_count": 6,
   "metadata": {},
   "outputs": [
    {
     "name": "stdout",
     "output_type": "stream",
     "text": [
      "The output is:\n",
      "[-10, 2, 8]\n",
      "[-7, -3, 10]\n",
      "\n"
     ]
    }
   ],
   "source": [
    "class sum_zero():\n",
    "    def findTriplets(arr):\n",
    "        n = len(arr)\n",
    "        a=[]\n",
    "        found = True\n",
    "        print(\"The output is:\")\n",
    "        for i in range(0, n - 2):\n",
    "            for j in range(i + 1, n - 1):\n",
    "                for k in range(j + 1, n):\n",
    "                    if (arr[i] + arr[j] + arr[k] == 0):\n",
    "                        #print(arr[i], arr[j], arr[k])\n",
    "                        a=[arr[i], arr[j], arr[k]]\n",
    "                        print(a)\n",
    "                        found = True\n",
    "                        \n",
    "        \n",
    "        if (found == False):\n",
    "            print(\" not exist \")\n",
    "        return \"\"\n",
    "     \n",
    "\n",
    "arr = [-25, -10, -7, -3, 2, 4, 8, 10]\n",
    "print(sum_zero.findTriplets(arr))\n",
    "    "
   ]
  },
  {
   "cell_type": "markdown",
   "metadata": {},
   "source": [
    "Q7. Write the Python class to implement pow(x, n)?"
   ]
  },
  {
   "cell_type": "code",
   "execution_count": 7,
   "metadata": {},
   "outputs": [
    {
     "name": "stdout",
     "output_type": "stream",
     "text": [
      "27\n",
      "0.015625\n",
      "10\n"
     ]
    }
   ],
   "source": [
    "class power():\n",
    "    def pow(self,x,n):\n",
    "        result = x ** n\n",
    "        #print(result)\n",
    "        return result\n",
    "\n",
    "\n",
    "print(power().pow(3,3))\n",
    "print(power().pow(4,-3))\n",
    "print(power().pow(10,1))"
   ]
  },
  {
   "cell_type": "markdown",
   "metadata": {},
   "source": [
    "Q8. Write the Python class which has two methods get_String and\n",
    "print_String. get_String accept the string from the user and \n",
    "print_String print the string in upper case."
   ]
  },
  {
   "cell_type": "code",
   "execution_count": 8,
   "metadata": {},
   "outputs": [
    {
     "name": "stdout",
     "output_type": "stream",
     "text": [
      "hello\n",
      "HELLO\n"
     ]
    }
   ],
   "source": [
    "class two_methods():\n",
    "    def __init__(self):\n",
    "        self.str1 = \"\"\n",
    "\n",
    "    def get_String(self):\n",
    "        self.str1 = input()\n",
    "\n",
    "    def print_String(self):\n",
    "        print(self.str1.upper())\n",
    "\n",
    "str1 = two_methods()\n",
    "str1.get_String()\n",
    "str1.print_String()"
   ]
  },
  {
   "cell_type": "markdown",
   "metadata": {},
   "source": [
    "Q9. Write the Python class named Rectangle constructed by a length\n",
    "and width and the method which will compute the area of the\n",
    "rectangle?"
   ]
  },
  {
   "cell_type": "code",
   "execution_count": 9,
   "metadata": {},
   "outputs": [
    {
     "name": "stdout",
     "output_type": "stream",
     "text": [
      "Enter length:\t5\n",
      "Enter width: \t3\n",
      "The area of the traingle is:\t 15\n",
      "\n"
     ]
    }
   ],
   "source": [
    "class Rectangle():\n",
    "    def __init__(self):\n",
    "        self.l =int(input(\"Enter length:\\t\")) \n",
    "        self.w=int(input(\"Enter width: \\t\"))\n",
    "    def compute(self):\n",
    "        area=self.l * self.w\n",
    "        print(\"The area of the traingle is:\\t\",area)\n",
    "        return \"\"\n",
    "\n",
    "print(Rectangle().compute())"
   ]
  },
  {
   "cell_type": "markdown",
   "metadata": {},
   "source": [
    "Q10. Write the Python class named Circle constructed by the radius\n",
    "and two methods which will compute the area and perimeter of\n",
    "the circle?"
   ]
  },
  {
   "cell_type": "code",
   "execution_count": 10,
   "metadata": {},
   "outputs": [
    {
     "name": "stdout",
     "output_type": "stream",
     "text": [
      "Enter radius:\t10\n",
      "The area of the Circle is:\t 314.0\n",
      "\n",
      "Enter radius:\t10\n",
      "The Perimeter of the Circle is:\t 62.800000000000004\n",
      "\n"
     ]
    }
   ],
   "source": [
    "class Circle():\n",
    "    def __init__(self):\n",
    "        self.r =int(input(\"Enter radius:\\t\")) \n",
    "        \n",
    "    def area(self):\n",
    "        area=3.14 * self.r **2 \n",
    "        print(\"The area of the Circle is:\\t\",area)\n",
    "        return \"\"\n",
    "    def perimeter(self):\n",
    "        perimeter=2*3.14 * self.r \n",
    "        print(\"The Perimeter of the Circle is:\\t\",perimeter)\n",
    "        return \"\"\n",
    "\n",
    "print(Circle().area())\n",
    "print(Circle().perimeter())"
   ]
  },
  {
   "cell_type": "markdown",
   "metadata": {},
   "source": [
    "Q11. Write the Python program to get the class name of an instance in\n",
    "Python?"
   ]
  },
  {
   "cell_type": "code",
   "execution_count": 22,
   "metadata": {},
   "outputs": [
    {
     "name": "stdout",
     "output_type": "stream",
     "text": [
      "The class name of the instance B is: \t  A\n",
      "<class '__main__.A'>\n",
      "<class 'type'>\n"
     ]
    },
    {
     "data": {
      "text/plain": [
       "\"<class '__main__.A'>\""
      ]
     },
     "execution_count": 22,
     "metadata": {},
     "output_type": "execute_result"
    }
   ],
   "source": [
    "class A:\n",
    "  pass\n",
    "\n",
    "b = A()\n",
    "\n",
    "print(\"The class name of the instance B is: \\t \",type(b).__name__ )\n",
    "#print(type(b))\n",
    "#print(type(A))\n",
    "#str(b.__class__)"
   ]
  },
  {
   "cell_type": "markdown",
   "metadata": {},
   "source": [
    "Q12. Write the Python program to count the number of students of\n",
    "individual class?\n",
    "\n",
    "    Sample dataclasses = (\n",
    "    ('V', 1),\n",
    "    ('VI', 1),\n",
    "    ('V', 2),\n",
    "    ('VI', 2),\n",
    "    ('VI', 3),\n",
    "    ('VII', 1),\n",
    "    )\n",
    "    Expected OutputCounter({'VI': 3, 'V': 2, 'VII': 1})"
   ]
  },
  {
   "cell_type": "code",
   "execution_count": 26,
   "metadata": {},
   "outputs": [
    {
     "name": "stdout",
     "output_type": "stream",
     "text": [
      "Counter({'VI': 3, 'V': 2, 'VII': 1})\n"
     ]
    }
   ],
   "source": [
    "from collections import Counter\n",
    "data=(  ('V', 1), ('VI', 1), ('V', 2), ('VI', 2), ('VI', 3), ('VII', 1), )\n",
    "\n",
    "#print(data)\n",
    "\n",
    "students = Counter(class_name for class_name, no_students in data)\n",
    "print(students)"
   ]
  },
  {
   "cell_type": "markdown",
   "metadata": {},
   "source": [
    "## Great Job!"
   ]
  }
 ],
 "metadata": {
  "kernelspec": {
   "display_name": "Python 3",
   "language": "python",
   "name": "python3"
  },
  "language_info": {
   "codemirror_mode": {
    "name": "ipython",
    "version": 3
   },
   "file_extension": ".py",
   "mimetype": "text/x-python",
   "name": "python",
   "nbconvert_exporter": "python",
   "pygments_lexer": "ipython3",
   "version": "3.7.4"
  }
 },
 "nbformat": 4,
 "nbformat_minor": 2
}
